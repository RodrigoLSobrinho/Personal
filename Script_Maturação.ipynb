{
 "cells": [
  {
   "cell_type": "markdown",
   "metadata": {},
   "source": [
    "### Escopo para cálculo de parâmetros da aba Maturação "
   ]
  },
  {
   "cell_type": "code",
   "execution_count": null,
   "metadata": {},
   "outputs": [],
   "source": [
    "# Input de dados de pirólise (leitura de planilha .csv)\n",
    "# Agrupamento de dados (cluster)\n",
    "# Cálculo de COTa\n",
    "# Cálculo de IHa = 100 x (S2/(COTa))\n",
    "# Calculo de Tr sem vitrinita: (IHa - IH)/ IHa\n",
    "# Cálculo de Ro a partir de Tmax: Ro calculada = (0,0180 x Tmax) - 7,16\n",
    "# Classificação do querogênio\n",
    "# Cálculo de Tr por Ro e tipo de querogênio\n",
    "# Normalização dos valores de Tr na curva log (ln)\n",
    "# Cálculo de TOC0, S20 e IH0\n",
    "# Gráficos\n",
    "# Comparação entre os resultados de Tr (Ro x IH)  "
   ]
  },
  {
   "cell_type": "code",
   "execution_count": 2,
   "metadata": {},
   "outputs": [],
   "source": [
    "import pandas as pd"
   ]
  },
  {
   "cell_type": "markdown",
   "metadata": {},
   "source": [
    "##### Input de dados de pirólise (leitura de planilha .csv)"
   ]
  },
  {
   "cell_type": "code",
   "execution_count": 5,
   "metadata": {},
   "outputs": [
    {
     "data": {
      "text/html": [
       "<div>\n",
       "<style scoped>\n",
       "    .dataframe tbody tr th:only-of-type {\n",
       "        vertical-align: middle;\n",
       "    }\n",
       "\n",
       "    .dataframe tbody tr th {\n",
       "        vertical-align: top;\n",
       "    }\n",
       "\n",
       "    .dataframe thead th {\n",
       "        text-align: right;\n",
       "    }\n",
       "</style>\n",
       "<table border=\"1\" class=\"dataframe\">\n",
       "  <thead>\n",
       "    <tr style=\"text-align: right;\">\n",
       "      <th></th>\n",
       "      <th>Profundidade</th>\n",
       "      <th>COT</th>\n",
       "      <th>S1</th>\n",
       "      <th>S2</th>\n",
       "      <th>S3</th>\n",
       "      <th>Tmax</th>\n",
       "      <th>Ro</th>\n",
       "      <th>IH</th>\n",
       "      <th>IO</th>\n",
       "    </tr>\n",
       "  </thead>\n",
       "  <tbody>\n",
       "    <tr>\n",
       "      <th>0</th>\n",
       "      <td>579.8</td>\n",
       "      <td>2.50</td>\n",
       "      <td>0.32</td>\n",
       "      <td>6.85</td>\n",
       "      <td>1.22</td>\n",
       "      <td>430.0</td>\n",
       "      <td>NaN</td>\n",
       "      <td>274.00</td>\n",
       "      <td>48.80</td>\n",
       "    </tr>\n",
       "    <tr>\n",
       "      <th>1</th>\n",
       "      <td>597.8</td>\n",
       "      <td>2.51</td>\n",
       "      <td>0.29</td>\n",
       "      <td>7.13</td>\n",
       "      <td>1.27</td>\n",
       "      <td>429.0</td>\n",
       "      <td>NaN</td>\n",
       "      <td>284.06</td>\n",
       "      <td>50.60</td>\n",
       "    </tr>\n",
       "    <tr>\n",
       "      <th>2</th>\n",
       "      <td>615.8</td>\n",
       "      <td>2.18</td>\n",
       "      <td>0.22</td>\n",
       "      <td>6.05</td>\n",
       "      <td>1.26</td>\n",
       "      <td>430.0</td>\n",
       "      <td>NaN</td>\n",
       "      <td>277.52</td>\n",
       "      <td>57.80</td>\n",
       "    </tr>\n",
       "    <tr>\n",
       "      <th>3</th>\n",
       "      <td>633.8</td>\n",
       "      <td>2.06</td>\n",
       "      <td>0.26</td>\n",
       "      <td>5.28</td>\n",
       "      <td>1.10</td>\n",
       "      <td>430.0</td>\n",
       "      <td>NaN</td>\n",
       "      <td>256.31</td>\n",
       "      <td>53.40</td>\n",
       "    </tr>\n",
       "    <tr>\n",
       "      <th>4</th>\n",
       "      <td>651.8</td>\n",
       "      <td>1.29</td>\n",
       "      <td>0.17</td>\n",
       "      <td>1.76</td>\n",
       "      <td>1.36</td>\n",
       "      <td>428.0</td>\n",
       "      <td>NaN</td>\n",
       "      <td>136.43</td>\n",
       "      <td>105.43</td>\n",
       "    </tr>\n",
       "    <tr>\n",
       "      <th>...</th>\n",
       "      <td>...</td>\n",
       "      <td>...</td>\n",
       "      <td>...</td>\n",
       "      <td>...</td>\n",
       "      <td>...</td>\n",
       "      <td>...</td>\n",
       "      <td>...</td>\n",
       "      <td>...</td>\n",
       "      <td>...</td>\n",
       "    </tr>\n",
       "    <tr>\n",
       "      <th>131</th>\n",
       "      <td>3285.8</td>\n",
       "      <td>0.62</td>\n",
       "      <td>NaN</td>\n",
       "      <td>NaN</td>\n",
       "      <td>NaN</td>\n",
       "      <td>NaN</td>\n",
       "      <td>NaN</td>\n",
       "      <td>NaN</td>\n",
       "      <td>NaN</td>\n",
       "    </tr>\n",
       "    <tr>\n",
       "      <th>132</th>\n",
       "      <td>3288.8</td>\n",
       "      <td>0.72</td>\n",
       "      <td>0.20</td>\n",
       "      <td>0.33</td>\n",
       "      <td>0.19</td>\n",
       "      <td>443.0</td>\n",
       "      <td>NaN</td>\n",
       "      <td>45.83</td>\n",
       "      <td>26.39</td>\n",
       "    </tr>\n",
       "    <tr>\n",
       "      <th>133</th>\n",
       "      <td>3303.8</td>\n",
       "      <td>0.26</td>\n",
       "      <td>0.10</td>\n",
       "      <td>0.10</td>\n",
       "      <td>0.30</td>\n",
       "      <td>NaN</td>\n",
       "      <td>NaN</td>\n",
       "      <td>38.46</td>\n",
       "      <td>115.38</td>\n",
       "    </tr>\n",
       "    <tr>\n",
       "      <th>134</th>\n",
       "      <td>3336.8</td>\n",
       "      <td>0.72</td>\n",
       "      <td>0.20</td>\n",
       "      <td>0.20</td>\n",
       "      <td>0.20</td>\n",
       "      <td>NaN</td>\n",
       "      <td>NaN</td>\n",
       "      <td>27.78</td>\n",
       "      <td>27.78</td>\n",
       "    </tr>\n",
       "    <tr>\n",
       "      <th>135</th>\n",
       "      <td>3369.8</td>\n",
       "      <td>0.52</td>\n",
       "      <td>NaN</td>\n",
       "      <td>NaN</td>\n",
       "      <td>NaN</td>\n",
       "      <td>NaN</td>\n",
       "      <td>NaN</td>\n",
       "      <td>NaN</td>\n",
       "      <td>NaN</td>\n",
       "    </tr>\n",
       "  </tbody>\n",
       "</table>\n",
       "<p>136 rows × 9 columns</p>\n",
       "</div>"
      ],
      "text/plain": [
       "     Profundidade   COT    S1    S2    S3   Tmax  Ro      IH      IO\n",
       "0           579.8  2.50  0.32  6.85  1.22  430.0 NaN  274.00   48.80\n",
       "1           597.8  2.51  0.29  7.13  1.27  429.0 NaN  284.06   50.60\n",
       "2           615.8  2.18  0.22  6.05  1.26  430.0 NaN  277.52   57.80\n",
       "3           633.8  2.06  0.26  5.28  1.10  430.0 NaN  256.31   53.40\n",
       "4           651.8  1.29  0.17  1.76  1.36  428.0 NaN  136.43  105.43\n",
       "..            ...   ...   ...   ...   ...    ...  ..     ...     ...\n",
       "131        3285.8  0.62   NaN   NaN   NaN    NaN NaN     NaN     NaN\n",
       "132        3288.8  0.72  0.20  0.33  0.19  443.0 NaN   45.83   26.39\n",
       "133        3303.8  0.26  0.10  0.10  0.30    NaN NaN   38.46  115.38\n",
       "134        3336.8  0.72  0.20  0.20  0.20    NaN NaN   27.78   27.78\n",
       "135        3369.8  0.52   NaN   NaN   NaN    NaN NaN     NaN     NaN\n",
       "\n",
       "[136 rows x 9 columns]"
      ]
     },
     "execution_count": 5,
     "metadata": {},
     "output_type": "execute_result"
    }
   ],
   "source": [
    "df = pd.read_csv(\"1-ALS-1-AL.csv\")\n",
    "df"
   ]
  },
  {
   "cell_type": "markdown",
   "metadata": {},
   "source": [
    "##### Cálculo de IH0ativo\n",
    "* IHa = 100 x (S2/(COTa))"
   ]
  },
  {
   "cell_type": "code",
   "execution_count": 7,
   "metadata": {},
   "outputs": [
    {
     "name": "stdout",
     "output_type": "stream",
     "text": [
      "Valor de IHa:  342.5\n"
     ]
    }
   ],
   "source": [
    "COTa = float(input(\"Valor de COTa: \"))\n",
    "S2 = float(input(\"Valor de S2: \"))\n",
    "IHa = 100*(S2/COTa)\n",
    "print(\"Valor de IHa: \", IHa)"
   ]
  },
  {
   "cell_type": "markdown",
   "metadata": {},
   "source": [
    "##### Calculo de Tr sem vitrinita \n",
    "* (IHa - IH)/ IHa"
   ]
  },
  {
   "cell_type": "code",
   "execution_count": 36,
   "metadata": {},
   "outputs": [
    {
     "name": "stdout",
     "output_type": "stream",
     "text": [
      "Valor da Taxa de Transformação (Epitalié et al., 1987):  0.15328467153284672\n"
     ]
    }
   ],
   "source": [
    "IH = float(input(\"Valor de IH: \"))\n",
    "Tr_IH = ((IHa-IH)/IHa)\n",
    "if Tr_IH < 0:\n",
    "    Tr_IH = 0\n",
    "print(\"Valor da Taxa de Transformação (Epitalié et al., 1987): \", Tr_IH)"
   ]
  },
  {
   "cell_type": "markdown",
   "metadata": {},
   "source": [
    "##### Cálculo de Ro a partir de Tmax\n",
    "* Ro calculada = (0,0180 x Tmax) - 7,16"
   ]
  },
  {
   "cell_type": "code",
   "execution_count": 32,
   "metadata": {},
   "outputs": [
    {
     "name": "stdout",
     "output_type": "stream",
     "text": [
      "valor de Ro calculada:  0.5799999999999992\n"
     ]
    }
   ],
   "source": [
    "Tmax = float(input(\"informe valor de Tmax: \"))\n",
    "Ro = (0.0180*Tmax)-7.16\n",
    "print(\"valor de Ro calculada: \", Ro)"
   ]
  },
  {
   "cell_type": "markdown",
   "metadata": {},
   "source": [
    "#### Classificação do querogênio\n",
    "* Tipo I: {IH > 600} ___ {S1/S3 > 15}\n",
    "* Tipo II: {IH > 300 and IH <= 600} ___ {S1/S3 > 10 and S1/S3 <15}\n",
    "* Tipo II/III: {IH > 200 and IH <=300} ___ {S1/S3 > 5 and S1/S3 < 10]\n",
    "* Tipo III: {IH > 50 and IH <= 200} ___ {S1/S3 > 1 and S1/S3 < 5}\n",
    "* Tipo IV: {IH <= 50} ___ {S1/S3 > 1}"
   ]
  },
  {
   "cell_type": "code",
   "execution_count": 33,
   "metadata": {},
   "outputs": [
    {
     "name": "stdout",
     "output_type": "stream",
     "text": [
      "Tipo II\n"
     ]
    }
   ],
   "source": [
    "if IH > 600:\n",
    "    print(\"Tipo I\")\n",
    "elif IH > 300 and IH <=600:\n",
    "    print(\"Tipo II\")\n",
    "elif IH > 200 and IH <= 300:\n",
    "    print(\"Tipo II/III\")\n",
    "elif IH > 50 and IH <= 200:\n",
    "    print(\"Tipo III\")\n",
    "else:\n",
    "    print(\"Tipo IV\")\n"
   ]
  },
  {
   "cell_type": "markdown",
   "metadata": {},
   "source": [
    "#### Cálculo de Tr por Ro e tipo de querogênio\n",
    "* Ro = row[new_ro_var]\n",
    "* TipoI = -34.430609 + (183.63837 * row[new_ro_var]) - (361.494 * row[new_ro_var]**2) + (309.9 * row[new_ro_var]**3) - (96.8 * row[new_ro_var]**4)\n",
    "* TipoII = -822.70308 + (6217.2684 * row[new_ro_var]) - (19265.314 * row[new_ro_var]**2) + (31326.872 * row[new_ro_var]**3) - (28204.703 * row[new_ro_var]**4) + (13345.477 * row[new_ro_var]**5) - (2595.9299 * row[new_ro_var]**6)\n",
    "* TipoIII=6.6516023 - (33.879196 * row[new_ro_var]) + (64.978399 * row[new_ro_var]**2) - (60.264818 * row[new_ro_var]**3) + (29.700408 * row[new_ro_var]**4) - (7.5019085 * row[new_ro_var]**5) + (0.7656397 * row[new_ro_var]**6)"
   ]
  },
  {
   "cell_type": "code",
   "execution_count": 37,
   "metadata": {},
   "outputs": [
    {
     "name": "stdout",
     "output_type": "stream",
     "text": [
      "Tipo II/III\n",
      "Taxa de Transformação pela Ro(calculada:  0.041283142077773505\n"
     ]
    }
   ],
   "source": [
    "if IH > 600:\n",
    "    print(\"Tipo I\")\n",
    "    Tr_Ro = -34.430609 + (183.63837 * Ro) - (361.494 * Ro**2) + (309.9 * Ro**3) - (96.8 * Ro**4)\n",
    "elif IH > 300 and IH <=600:\n",
    "    print(\"Tipo II\")\n",
    "    Tr_Ro = -822.70308 + (6217.2684 * Ro) - (19265.314 * Ro**2) + (31326.872 * Ro**3) - (28204.703 * Ro**4) + (13345.477 * Ro**5) - (2595.9299 * Ro**6)\n",
    "elif IH > 200 and IH <= 300:\n",
    "    print(\"Tipo II/III\")\n",
    "    Tr_Ro = -822.70308 + (6217.2684 * Ro) - (19265.314 * Ro**2) + (31326.872 * Ro**3) - (28204.703 * Ro**4) + (13345.477 * Ro**5) - (2595.9299 * Ro**6)\n",
    "elif IH > 50 and IH < 200:\n",
    "    print(\"Tipo III\")\n",
    "    Tr_Ro = 6.6516023 - (33.879196 * Ro) + (64.978399 * Ro**2) - (60.264818 * Ro**3) + (29.700408 * Ro**4) - (7.5019085 * Ro**5) + (0.7656397 * Ro**6)\n",
    "else:\n",
    "    print(\"Tipo IV\")\n",
    "    Tr_Ro = 0\n",
    "print(\"Taxa de Transformação pela Ro(calculada: \", Tr_Ro)"
   ]
  },
  {
   "cell_type": "code",
   "execution_count": 50,
   "metadata": {},
   "outputs": [
    {
     "name": "stdout",
     "output_type": "stream",
     "text": [
      "Tipo II/III\n",
      "Taxa de Transformação pela Ro(calculada):  0.18660363703680116\n"
     ]
    }
   ],
   "source": [
    "# Decisão sobre Tipo de Querogênio II ou III\n",
    "Ro = 0.8\n",
    "IH = 290\n",
    "end_member = ((IH/600)/(200/600)-1)*100\n",
    "Eq_I = -34.430609 + (183.63837 * Ro) - (361.494 * Ro**2) + (309.9 * Ro**3) - (96.8 * Ro**4)\n",
    "Eq_II = -822.70308 + (6217.2684 * Ro) - (19265.314 * Ro**2) + (31326.872 * Ro**3) - (28204.703 * Ro**4) + (13345.477 * Ro**5) - (2595.9299 * Ro**6)\n",
    "Eq_III = 6.6516023 - (33.879196 * Ro) + (64.978399 * Ro**2) - (60.264818 * Ro**3) + (29.700408 * Ro**4) - (7.5019085 * Ro**5) + (0.7656397 * Ro**6)\n",
    "\n",
    "if IH > 600:\n",
    "    print(\"Tipo I\")\n",
    "    Tr_Ro = Eq_I\n",
    "elif IH > 300 and IH <=600:\n",
    "    print(\"Tipo II\")\n",
    "    Tr_Ro = Eq_II\n",
    "elif IH > 200 and IH <= 300:\n",
    "    print(\"Tipo II/III\")\n",
    "    if end_member > 50:\n",
    "        Tr_Ro = Eq_II\n",
    "    else:\n",
    "        Tr_Ro = Eq_III\n",
    "elif IH > 50 and IH < 200:\n",
    "    print(\"Tipo III\")\n",
    "    Tr_Ro = Eq_III\n",
    "else:\n",
    "    print(\"Tipo IV\")\n",
    "    Tr_Ro = 0\n",
    "if Tr_Ro < 0:\n",
    "    Tr_Ro = 0\n",
    "print(\"Taxa de Transformação pela Ro(calculada): \", Tr_Ro)"
   ]
  },
  {
   "cell_type": "markdown",
   "metadata": {},
   "source": [
    "#### Normalização dos valores de Tr na curva log (ln)"
   ]
  },
  {
   "cell_type": "code",
   "execution_count": null,
   "metadata": {},
   "outputs": [],
   "source": []
  },
  {
   "cell_type": "markdown",
   "metadata": {},
   "source": [
    "##### Cálculo de TOC0, S20 e IH0\n",
    "* S20 = S2 / (1 - Tr)\n",
    "* COT0 = COTr + ((S2 x tr)/(1 - Tr))x0,086\n",
    "* IH0 = S20/COT0"
   ]
  },
  {
   "cell_type": "code",
   "execution_count": null,
   "metadata": {},
   "outputs": [],
   "source": []
  }
 ],
 "metadata": {
  "kernelspec": {
   "display_name": "Python 3",
   "language": "python",
   "name": "python3"
  },
  "language_info": {
   "codemirror_mode": {
    "name": "ipython",
    "version": 3
   },
   "file_extension": ".py",
   "mimetype": "text/x-python",
   "name": "python",
   "nbconvert_exporter": "python",
   "pygments_lexer": "ipython3",
   "version": "3.10.6"
  },
  "orig_nbformat": 4
 },
 "nbformat": 4,
 "nbformat_minor": 2
}
