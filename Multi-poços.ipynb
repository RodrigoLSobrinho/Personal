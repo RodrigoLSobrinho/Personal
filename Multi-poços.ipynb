{
 "cells": [
  {
   "cell_type": "code",
   "execution_count": 30,
   "metadata": {},
   "outputs": [],
   "source": [
    "%matplotlib inline\n",
    "import pandas as pd\n",
    "import os\n",
    "import scipy\n",
    "import numpy as np\n",
    "import matplotlib.pyplot as plt\n",
    "from sklearn.linear_model import LinearRegression\n",
    "from sklearn.cluster import KMeans\n",
    "from sklearn.preprocessing import StandardScaler\n",
    "import seaborn as sns\n",
    "from matplotlib.gridspec import GridSpec\n",
    "import matplotlib.patches as patches"
   ]
  },
  {
   "cell_type": "code",
   "execution_count": 31,
   "metadata": {},
   "outputs": [],
   "source": [
    "# keys = plt.rcParams.keys()\n",
    "# print(keys)\n",
    "# 'font.sans-serif': \"Verdana\",\n",
    "\n",
    "custom_style = {\n",
    "    'figure.figsize': (8, 6),\n",
    "    'font.family':'sans-serif',\n",
    "    'axes.facecolor': 'white',\n",
    "    'figure.facecolor':'lightgray',\n",
    "    'scatter.marker': 'o',\n",
    "    'font.size': 9,\n",
    "    'axes.grid': True\n",
    "    }"
   ]
  },
  {
   "cell_type": "code",
   "execution_count": 32,
   "metadata": {},
   "outputs": [],
   "source": [
    "directory_path = 'Poços_Marinho'"
   ]
  },
  {
   "cell_type": "code",
   "execution_count": 33,
   "metadata": {},
   "outputs": [
    {
     "data": {
      "text/plain": [
       "80"
      ]
     },
     "execution_count": 33,
     "metadata": {},
     "output_type": "execute_result"
    }
   ],
   "source": [
    "csv_files = [file for file in os.listdir(directory_path) if file.endswith('.csv')]\n",
    "len(csv_files)\n",
    "#csv_files"
   ]
  },
  {
   "cell_type": "code",
   "execution_count": 34,
   "metadata": {},
   "outputs": [],
   "source": [
    "dataframes = []\n",
    "\n",
    "for csv_file in csv_files:\n",
    "    file_path = os.path.join(directory_path, csv_file)\n",
    "    df = pd.read_csv(file_path)\n",
    "    dataframes.append(df)\n"
   ]
  },
  {
   "cell_type": "code",
   "execution_count": 35,
   "metadata": {},
   "outputs": [],
   "source": [
    "dataframes = []\n",
    "media=[]\n",
    "for csv_file in csv_files:\n",
    "    file_path = os.path.join(directory_path, csv_file)\n",
    "    df = pd.read_csv(file_path)\n",
    "    avg = df[\"COT\"].mean()\n",
    "    media.append(avg)\n",
    "#media\n",
    "    \n"
   ]
  },
  {
   "cell_type": "code",
   "execution_count": 36,
   "metadata": {},
   "outputs": [
    {
     "data": {
      "text/plain": [
       "69"
      ]
     },
     "execution_count": 36,
     "metadata": {},
     "output_type": "execute_result"
    }
   ],
   "source": [
    "pasta = 'Outputs_Planilhas'\n",
    "csv_files = [file for file in os.listdir(pasta) if file.endswith('.csv')]\n",
    "dataframes = []\n",
    "Tr_media=[]\n",
    "for csv_file in csv_files:\n",
    "    file_path = os.path.join(pasta, csv_file)\n",
    "    df = pd.read_csv(file_path)\n",
    "    avg = df[\"Tr_IH_Log\"].mean()\n",
    "    Tr_media.append(avg)\n",
    "len(Tr_media)"
   ]
  },
  {
   "cell_type": "code",
   "execution_count": 37,
   "metadata": {},
   "outputs": [
    {
     "data": {
      "text/plain": [
       "69"
      ]
     },
     "execution_count": 37,
     "metadata": {},
     "output_type": "execute_result"
    }
   ],
   "source": [
    "\n",
    "Tr_Ro_med=[]\n",
    "for csv_file in csv_files:\n",
    "    file_path = os.path.join(pasta, csv_file)\n",
    "    df = pd.read_csv(file_path)\n",
    "    avg = df[\"Tr_Ro_Log\"].mean()\n",
    "    Tr_Ro_med.append(avg)\n",
    "len(Tr_Ro_med)"
   ]
  },
  {
   "cell_type": "code",
   "execution_count": 38,
   "metadata": {},
   "outputs": [
    {
     "name": "stdout",
     "output_type": "stream",
     "text": [
      "Using matplotlib backend: TkAgg\n"
     ]
    },
    {
     "data": {
      "text/plain": [
       "(0.0, 1.0)"
      ]
     },
     "execution_count": 38,
     "metadata": {},
     "output_type": "execute_result"
    }
   ],
   "source": [
    "%matplotlib\n",
    "fig, ax=plt.subplots()\n",
    "x=np.arange(69)\n",
    "largura = 0.35\n",
    "\n",
    "ax1=ax.bar(x,Tr_media, largura, label=\"Tr_IH\",facecolor=\"tan\", edgecolor=\"black\", linewidth=0.5)\n",
    "ax2=ax.bar(x+largura,Tr_Ro_med, largura, label=\"Tr_Ro\",facecolor=\"sienna\", edgecolor=\"black\", linewidth=0.5)\n",
    "plt.ylim(0,1.0)\n",
    "ax.set_ylabel(\"Taxa de Transformação\")\n",
    "ax.set_xlabel(\"Poços\")\n",
    "ax.legend()\n",
    "plt.style.use(custom_style)\n",
    "plt.ylim(0,1.0)"
   ]
  },
  {
   "cell_type": "code",
   "execution_count": 43,
   "metadata": {},
   "outputs": [],
   "source": [
    "pasta = 'Outputs_Planilhas'\n",
    "csv_files = [file for file in os.listdir(pasta) if file.endswith('.csv')]\n",
    "dataframes = []\n",
    "Tr_dif=[]\n",
    "for csv_file in csv_files:\n",
    "    file_path = os.path.join(pasta, csv_file)\n",
    "    df = pd.read_csv(file_path)\n",
    "    df[\"euclid\"] = np.sqrt((df[\"Tr_IH_Log\"]-df[\"Tr_Ro_Log\"])**2)\n",
    "    med=df[\"euclid\"].mean()\n",
    "    Tr_dif.append(med)\n",
    "#Tr_dif"
   ]
  },
  {
   "cell_type": "code",
   "execution_count": 40,
   "metadata": {},
   "outputs": [
    {
     "data": {
      "text/plain": [
       "(0.0, 1.0)"
      ]
     },
     "execution_count": 40,
     "metadata": {},
     "output_type": "execute_result"
    }
   ],
   "source": [
    "#%matplotlib\n",
    "x=np.arange(69)\n",
    "plt.bar(x,Tr_dif, facecolor=\"olive\", edgecolor=\"black\", linewidth=0.5)\n",
    "plt.ylim(0,1.0)"
   ]
  },
  {
   "cell_type": "code",
   "execution_count": 41,
   "metadata": {},
   "outputs": [
    {
     "data": {
      "text/plain": [
       "(0.0, 1.0)"
      ]
     },
     "execution_count": 41,
     "metadata": {},
     "output_type": "execute_result"
    }
   ],
   "source": [
    "#%matplotlib\n",
    "x=np.arange(69)\n",
    "plt.scatter(x,Tr_dif, color=\"dimgray\", s=10)\n",
    "plt.plot(x, Tr_dif, color=\"silver\")\n",
    "plt.ylim(0,1.0)"
   ]
  },
  {
   "cell_type": "code",
   "execution_count": 42,
   "metadata": {},
   "outputs": [
    {
     "name": "stdout",
     "output_type": "stream",
     "text": [
      "Using matplotlib backend: TkAgg\n"
     ]
    }
   ],
   "source": [
    "%matplotlib\n",
    "fig, ax=plt.subplots()\n",
    "x=np.arange(69)\n",
    "largura = 0.4\n",
    "\n",
    "ax1=ax.bar(x,Tr_media, largura, label=\"Tr_IH\",facecolor=\"tan\", edgecolor=\"black\", linewidth=0.5)\n",
    "ax2=ax.scatter(x,Tr_dif, color=\"black\", label=\"Dist. Euclid.\",s=15)\n",
    "ax3=ax.plot(x, Tr_dif, color=\"dimgray\", linestyle=\":\", linewidth=0.75)\n",
    "plt.ylim(0,1.0)\n",
    "ax.set_ylabel(\"Taxa de Transformação\", fontsize=10)\n",
    "ax.set_xlabel(\"Poços\", fontsize=10)\n",
    "ax.legend()\n",
    "plt.ylim(0,1.0)\n",
    "plt.style.use(custom_style)\n"
   ]
  }
 ],
 "metadata": {
  "kernelspec": {
   "display_name": "Python 3",
   "language": "python",
   "name": "python3"
  },
  "language_info": {
   "codemirror_mode": {
    "name": "ipython",
    "version": 3
   },
   "file_extension": ".py",
   "mimetype": "text/x-python",
   "name": "python",
   "nbconvert_exporter": "python",
   "pygments_lexer": "ipython3",
   "version": "3.10.12"
  },
  "orig_nbformat": 4
 },
 "nbformat": 4,
 "nbformat_minor": 2
}
