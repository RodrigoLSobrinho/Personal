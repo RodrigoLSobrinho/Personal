{
 "cells": [
  {
   "cell_type": "markdown",
   "metadata": {},
   "source": [
    "### Escopo para cálculo de parâmetros da aba Maturação "
   ]
  },
  {
   "cell_type": "code",
   "execution_count": null,
   "metadata": {},
   "outputs": [],
   "source": [
    "# Input de dados de pirólise (leitura de planilha .csv)\n",
    "# Agrupamento de dados (cluster)\n",
    "# Cálculo de COTa\n",
    "# Cálculo de IHa = 100 x (S2/(COTa))\n",
    "# Calculo de Tr sem vitrinita: (IHa - IH)/ IHa\n",
    "# Cálculo de Ro a partir de Tmax: Ro calculada = (0,0180 x Tmax) - 7,16\n",
    "# Classificação do querogênio\n",
    "# Cálculo de Tr por Ro e tipo de querogênio\n",
    "# Normalização dos valores de Tr na curva log (ln)\n",
    "# Cálculo de TOC0, S20 e IH0\n",
    "# Gráficos\n",
    "# Comparação entre os resultados de Tr (Ro x IH)  "
   ]
  },
  {
   "cell_type": "markdown",
   "metadata": {},
   "source": [
    "##### Dependências"
   ]
  },
  {
   "cell_type": "code",
   "execution_count": null,
   "metadata": {},
   "outputs": [],
   "source": [
    "import pandas as pd\n",
    "import scipy\n",
    "import numpy as np\n",
    "import matplotlib.pyplot as plt\n",
    "from sklearn.linear_model import LinearRegression\n",
    "from sklearn.cluster import KMeans\n",
    "from sklearn.preprocessing import StandardScaler"
   ]
  },
  {
   "cell_type": "markdown",
   "metadata": {},
   "source": [
    "##### Customização dos gráficos"
   ]
  },
  {
   "cell_type": "code",
   "execution_count": null,
   "metadata": {},
   "outputs": [],
   "source": [
    "# keys = plt.rcParams.keys()\n",
    "# print(keys)\n",
    "\n",
    "custom_style = {\n",
    "    'figure.figsize': (8, 6),\n",
    "    'axes.facecolor': 'lightgray',\n",
    "    'figure.facecolor':'silver',\n",
    "    'lines.linewidth': 2,\n",
    "    'scatter.marker': 'o',\n",
    "    'font.sans-serif': \"Arial\",\n",
    "    'font.size': 10.5,\n",
    "    'axes.grid': True,\n",
    "}"
   ]
  },
  {
   "cell_type": "markdown",
   "metadata": {},
   "source": [
    "##### Input de dados de pirólise (leitura de planilha .csv)"
   ]
  },
  {
   "cell_type": "code",
   "execution_count": null,
   "metadata": {},
   "outputs": [],
   "source": [
    "df = pd.read_csv(\"1-BAS-60-BAS.csv\")\n",
    "df"
   ]
  },
  {
   "cell_type": "markdown",
   "metadata": {},
   "source": [
    "##### Agrupamento por parâmetros de pirólise"
   ]
  },
  {
   "cell_type": "code",
   "execution_count": null,
   "metadata": {},
   "outputs": [],
   "source": [
    "# Number of clusters you want to create\n",
    "num_clusters = 3\n",
    "\n",
    "# Extract the columns for clustering\n",
    "X = df[[\"COT\", \"S1\",\"S2\",\"S3\", \"Tmax\"]].fillna(value=0)\n",
    "\n",
    "# Optional: Scale the data (if needed)\n",
    "#scaler = StandardScaler()\n",
    "#X_scaled = scaler.fit_transform(X)\n",
    "\n",
    "# Apply k-means clustering\n",
    "kmeans = KMeans(n_clusters=num_clusters, random_state=42)\n",
    "kmeans.fit(X)  # Use X_scaled if you scaled the data, otherwise use X\n",
    "\n",
    "# Get cluster assignments and centroids\n",
    "cluster_labels = kmeans.labels_\n",
    "centroids = kmeans.cluster_centers_\n",
    "\n",
    "# Add cluster labels to the original data frame\n",
    "df['Cluster'] = cluster_labels\n",
    "\n",
    "# Scatter plot\n",
    "plt.figure(figsize=(8, 6))\n",
    "\n",
    "# Plot data points for each cluster\n",
    "for cluster_id in range(num_clusters):\n",
    "    cluster_data = df[df['Cluster'] == cluster_id]\n",
    "    plt.scatter(cluster_data[\"S2\"], cluster_data[\"COT\"], label=f'Cluster {cluster_id}')\n",
    "\n",
    "# Extract data from DataFrame\n",
    "x_data = df['S2'].fillna(value=0).values.reshape(-1, 1)\n",
    "y_data = df['COT'].values\n",
    "\n",
    "# Fit linear regression model\n",
    "model = LinearRegression()\n",
    "model.fit(x_data, y_data)\n",
    "\n",
    "# Get the slope (coefficient) and y-intercept of the trend line\n",
    "slope = model.coef_[0]\n",
    "intercept = model.intercept_\n",
    "\n",
    "\n",
    "# Plot the trend line\n",
    "plt.plot(x_data, model.predict(x_data), color='gray', label='Trend Line')\n",
    "\n",
    "plt.xlabel(\"S2\")\n",
    "plt.ylabel(\"COT\")\n",
    "plt.title('')\n",
    "plt.legend()\n",
    "plt.grid(True)\n",
    "plt.style.use(custom_style)\n",
    "plt.show()\n",
    "df"
   ]
  },
  {
   "cell_type": "markdown",
   "metadata": {},
   "source": [
    "##### Equação de regressão linear para cada cluster"
   ]
  },
  {
   "cell_type": "code",
   "execution_count": null,
   "metadata": {},
   "outputs": [],
   "source": [
    "models = {}\n",
    "\n",
    "for cluster_id in range(num_clusters):\n",
    "    cluster_data = df[df['Cluster'] == cluster_id]\n",
    "    x_values = cluster_data[[\"S2\"]].fillna(value=0)\n",
    "    y_values = cluster_data[\"COT\"]\n",
    "    model = LinearRegression()\n",
    "    model.fit(x_values, y_values)\n",
    "    models[cluster_id] = model\n",
    "\n",
    "# Print the linear regression equations for each cluster\n",
    "for cluster_id, model in models.items():\n",
    "    slope = model.coef_[0]\n",
    "    intercept = model.intercept_\n",
    "    print(f\"Cluster {cluster_id} - y = {slope:.2f} * x + {intercept:.2f}\")"
   ]
  },
  {
   "cell_type": "markdown",
   "metadata": {},
   "source": [
    "##### Cálculo de COT ativo utilizando regressão linear"
   ]
  },
  {
   "cell_type": "code",
   "execution_count": null,
   "metadata": {},
   "outputs": [],
   "source": [
    "COTa = df[\"COT\"]-intercept"
   ]
  },
  {
   "cell_type": "code",
   "execution_count": null,
   "metadata": {},
   "outputs": [],
   "source": [
    "#Filtro para Valores de COTa < 0\n",
    "COT_cor=[]\n",
    "for i in COTa:\n",
    "    if i >= 0:\n",
    "        COT_cor.append(i)\n",
    "    else:\n",
    "        COT_cor.append(0)\n",
    "df[\"COTa\"]= COT_cor\n",
    "df\n",
    "    \n",
    "        "
   ]
  },
  {
   "cell_type": "markdown",
   "metadata": {},
   "source": [
    "##### Cálculo de IH0ativo\n",
    "* IHa = 100 x (S2/(COTa))"
   ]
  },
  {
   "cell_type": "code",
   "execution_count": null,
   "metadata": {},
   "outputs": [],
   "source": [
    "IHa = 100*(df[\"S2\"]/df[\"COTa\"])\n",
    "IHa_cor=[]\n",
    "for i in IHa:\n",
    "    if i<0:\n",
    "        IHa_cor.append(0)\n",
    "    elif i>=0 or i<=999:\n",
    "        IHa_cor.append(i)\n",
    "    else:\n",
    "        IHa_cor.append(\"\")\n",
    "df[\"IHa\"]= IHa_cor\n",
    "df"
   ]
  },
  {
   "cell_type": "markdown",
   "metadata": {},
   "source": [
    "##### Calculo da Taxa de Transformação sem Ro (IH)\n",
    "* (IHa - IH)/ IHa"
   ]
  },
  {
   "cell_type": "code",
   "execution_count": null,
   "metadata": {},
   "outputs": [],
   "source": [
    "df[\"Taxa de Transformação (IH)\"] = ((df[\"IHa\"]-df[\"IH\"])/df[\"IHa\"])\n",
    "df"
   ]
  },
  {
   "cell_type": "markdown",
   "metadata": {},
   "source": [
    "##### Cálculo de Ro a partir de Tmax\n",
    "* Ro calculada = (0,0180 x Tmax) - 7,16"
   ]
  },
  {
   "cell_type": "code",
   "execution_count": null,
   "metadata": {},
   "outputs": [],
   "source": [
    "df[\"Ro (calculada)\"] = (0.0180*df[\"Tmax\"])-7.16\n",
    "df"
   ]
  },
  {
   "cell_type": "markdown",
   "metadata": {},
   "source": [
    "#### Classificação do querogênio\n",
    "* Tipo I: {IH > 600} ___ {S1/S3 > 15}\n",
    "* Tipo II: {IH > 300 and IH <= 600} ___ {S1/S3 > 10 and S1/S3 <15}\n",
    "* Tipo II/III: {IH > 200 and IH <=300} ___ {S1/S3 > 5 and S1/S3 < 10]\n",
    "* Tipo III: {IH > 50 and IH <= 200} ___ {S1/S3 > 1 and S1/S3 < 5}\n",
    "* Tipo IV: {IH <= 50} ___ {S1/S3 > 1}"
   ]
  },
  {
   "cell_type": "code",
   "execution_count": null,
   "metadata": {},
   "outputs": [],
   "source": [
    "\n",
    "K = []\n",
    "for i in df[\"IH\"]:\n",
    "    if i > 600:\n",
    "        a=\"Tipo I\"\n",
    "    elif i > 300 and i <=600:\n",
    "        a=\"Tipo II\"\n",
    "    elif i > 200 and i <= 300:\n",
    "        a=\"Tipo II/III\"\n",
    "    elif i > 50 and i <= 200:\n",
    "        a=\"Tipo III\"\n",
    "    elif i>0 and i<=50:\n",
    "        a=\"Tipo IV\"\n",
    "    else:\n",
    "        a=\"\"\n",
    "    K.append(a)\n",
    "querogênio=pd.DataFrame(K)\n",
    "df[\"Querogênio\"]=querogênio\n",
    "df\n"
   ]
  },
  {
   "cell_type": "markdown",
   "metadata": {},
   "source": [
    "#### Cálculo de Tr por Ro e tipo de querogênio\n",
    "* Tipo_I = -34.430609 + (183.63837 * Ro) - (361.494 * Ro**2) + (309.9 * Ro**3) - (96.8 * Ro**4)\n",
    "* Tipo_II = -822.70308 + (6217.2684 * Ro) - (19265.314 * Ro**2) + (31326.872 * Ro**3) - (28204.703 * Ro**4) + (13345.477 * Ro**5) - (2595.9299 * Ro**6)\n",
    "* Tipo_III = 6.6516023 - (33.879196 * Ro) + (64.978399 * Ro**2) - (60.264818 * Ro**3) + (29.700408 * Ro**4) - (7.5019085 * Ro**5) + (0.7656397 * Ro**6)\n"
   ]
  },
  {
   "cell_type": "code",
   "execution_count": null,
   "metadata": {},
   "outputs": [],
   "source": [
    "# Decisão sobre Tipo de Querogênio\n",
    "\n",
    "Ro = df[\"Ro (calculada)\"].mean()\n",
    "Eq_I = -34.430609 + (183.63837 * Ro) - (361.494 * Ro**2) + (309.9 * Ro**3) - (96.8 * Ro**4)\n",
    "Eq_II = -822.70308 + (6217.2684 * Ro) - (19265.314 * Ro**2) + (31326.872 * Ro**3) - (28204.703 * Ro**4) + (13345.477 * Ro**5) - (2595.9299 * Ro**6)\n",
    "Eq_III = 6.6516023 - (33.879196 * Ro) + (64.978399 * Ro**2) - (60.264818 * Ro**3) + (29.700408 * Ro**4) - (7.5019085 * Ro**5) + (0.7656397 * Ro**6)\n",
    "\n",
    "TRo=[]\n",
    "for i in df[\"IH\"]:\n",
    "    if i > 600:\n",
    "        Tr_Ro = Eq_I\n",
    "    elif i > 400 and i <=600:\n",
    "        Tr_Ro = Eq_II\n",
    "    elif i > 50 and i < 400:\n",
    "        Tr_Ro = Eq_III\n",
    "    else:\n",
    "        Tr_Ro = 1\n",
    "    TRo.append(Tr_Ro)\n",
    "if Tr_Ro > 1:\n",
    "    TRo.append(1)\n",
    "elif Tr_Ro < 0:\n",
    "    TRo.append(\"\")\n",
    "else:\n",
    "    TRo.append(Tr_Ro)\n",
    "TrRo=pd.DataFrame(TRo)\n",
    "df[\"Taxa de Transformação (Ro)\"]=TrRo\n",
    "df\n"
   ]
  },
  {
   "cell_type": "markdown",
   "metadata": {},
   "source": [
    "##### Filtro para valores de Tr"
   ]
  },
  {
   "cell_type": "code",
   "execution_count": null,
   "metadata": {},
   "outputs": [],
   "source": [
    "def filter_tr_ih_values(row):\n",
    "    try:\n",
    "        if row['Taxa de Transformação (IH)'] > 1:\n",
    "            row = 1\n",
    "        if row['Taxa de Transformação (IH)'] < 0:\n",
    "            row = 0\n",
    "        else:\n",
    "            row = row['Taxa de Transformação (IH)']\n",
    "        return row\n",
    "    except:\n",
    "        row = 1\n",
    "        return row\n",
    "def filter_tr_Ro_values(row):\n",
    "    try:\n",
    "        if row['Taxa de Transformação (Ro)'] > 1:\n",
    "            row = 1\n",
    "        if row['Taxa de Transformação (Ro)'] < 0:\n",
    "            row = 0\n",
    "        else:\n",
    "            row = row['Taxa de Transformação (Ro)']\n",
    "        return row\n",
    "    except:\n",
    "        row = 1\n",
    "        return row\n",
    "df"
   ]
  },
  {
   "cell_type": "markdown",
   "metadata": {},
   "source": [
    "#### Normalização dos valores de Tr na curva log (ln)"
   ]
  },
  {
   "cell_type": "code",
   "execution_count": null,
   "metadata": {},
   "outputs": [],
   "source": [
    "L = 120#float(input(\"Lâmina d'água: \"))\n",
    "\n",
    "\n",
    "MRo = df[\"Taxa de Transformação (Ro)\"].median()\n",
    "MIH = df[\"Taxa de Transformação (IH)\"].median()\n",
    "\n",
    "    # 4. Ajustar uma curva logaritmica com a profundidade da lamina dagua e a profundidade final e o tr na lamina dagua (zero) e o tr na profundidade final (mediana ou mínimo), utilizando scipy curve_fit\n",
    "\n",
    "# Cálculo para valores de Ro calculada\n",
    "x1 = [L, df[\"Profundidade\"].max()]\n",
    "y1 = [0, MRo]\n",
    "\n",
    "log_fit = scipy.optimize.curve_fit(lambda t, a1, b1: a1 + b1 * np.log(t), x1, y1)\n",
    "a1 = log_fit[0][0]\n",
    "b1 = log_fit[0][1]\n",
    "\n",
    "    # 5. Calcular o tr em todas as amostras do poço com a equaçao Tr = a + b * ln(profundidade)\n",
    "df['Tr_Ro_Log'] = a1 + b1 * np.log(df[\"Profundidade\"])\n",
    "\n",
    "#================================================#\n",
    "\n",
    "# Cálculo para valores de IH\n",
    "x2 = [L, df[\"Profundidade\"].max()]\n",
    "y2 = [0, MIH]\n",
    "\n",
    "log_fit = scipy.optimize.curve_fit(lambda t, a2, b2: a2 + b2 * np.log(t), x2, y2)\n",
    "a2 = log_fit[0][0]\n",
    "b2 = log_fit[0][1]\n",
    "\n",
    "    # 5. Calcular o tr em todas as amostras do poço com a equaçao Tr = a + b * ln(profundidade)\n",
    "df['Tr_IH_Log'] = a2 + b2 * np.log(df[\"Profundidade\"])\n",
    "df\n",
    "\n",
    "    # Extra: aplicando novamente filtro para que tr seja 0 abaixo da lamina d'agua\n"
   ]
  },
  {
   "cell_type": "markdown",
   "metadata": {},
   "source": [
    "##### Cálculo de TOC0, S20 e IH0\n",
    "* S20 = S2 / (1 - Tr)\n",
    "* COT0 = COTr + ((S2 x tr)/(1 - Tr))x0,086\n",
    "* IH0 = S20/COT0"
   ]
  },
  {
   "cell_type": "code",
   "execution_count": null,
   "metadata": {},
   "outputs": [],
   "source": [
    "Tr = df[\"Taxa de Transformação (IH)\"]\n",
    "df[\"S20\"]=df[\"S2\"]/(1-Tr)\n",
    "df[\"COT0\"]=df[\"COT\"]+((df[\"S2\"]*Tr)/(1-Tr))*0.086\n",
    "df[\"IH0\"]=100*df[\"S20\"]/df[\"COT0\"]\n",
    "df"
   ]
  },
  {
   "cell_type": "markdown",
   "metadata": {},
   "source": [
    "##### Gráficos"
   ]
  },
  {
   "cell_type": "code",
   "execution_count": null,
   "metadata": {},
   "outputs": [],
   "source": [
    "# Taxa de Transformação\n",
    "plt.scatter(df[\"Tr_IH_Log\"], df[\"Profundidade\"], color=\"darkgrey\")\n",
    "plt.plot(df[\"Tr_IH_Log\"].dropna().values, df[\"Profundidade\"].dropna().values, color=\"black\")\n",
    "plt.gca().invert_yaxis()\n",
    "plt.xlim(0,1)\n",
    "plt.xlabel(\"Taxa de Tranformação IH (Log)\")\n",
    "plt.ylabel(\"Profundidade (m)\")\n",
    "plt.style.use(custom_style)\n",
    "plt.show()"
   ]
  },
  {
   "cell_type": "code",
   "execution_count": null,
   "metadata": {},
   "outputs": [],
   "source": [
    "X=str(input(\"Parâmetro:\"))\n",
    "col = df[X]\n",
    "plt.scatter(col, df[\"Profundidade\"], color=\"black\")\n",
    "plt.gca().invert_yaxis()\n",
    "plt.xlabel(X)\n",
    "plt.ylabel(\"Profundidade (m)\")\n",
    "plt.style.use(custom_style)\n",
    "plt.show()\n"
   ]
  }
 ],
 "metadata": {
  "kernelspec": {
   "display_name": "Python 3",
   "language": "python",
   "name": "python3"
  },
  "language_info": {
   "codemirror_mode": {
    "name": "ipython",
    "version": 3
   },
   "file_extension": ".py",
   "mimetype": "text/x-python",
   "name": "python",
   "nbconvert_exporter": "python",
   "pygments_lexer": "ipython3",
   "version": "3.10.6"
  },
  "orig_nbformat": 4
 },
 "nbformat": 4,
 "nbformat_minor": 2
}
