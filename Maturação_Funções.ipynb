{
 "cells": [
  {
   "cell_type": "code",
   "execution_count": 2,
   "metadata": {},
   "outputs": [],
   "source": [
    "%matplotlib inline\n",
    "import pandas as pd\n",
    "import scipy\n",
    "import numpy as np\n",
    "import matplotlib.pyplot as plt\n",
    "from sklearn.linear_model import LinearRegression\n",
    "from sklearn.cluster import KMeans\n",
    "from sklearn.preprocessing import StandardScaler\n",
    "import seaborn as sns\n",
    "from matplotlib.gridspec import GridSpec\n",
    "import matplotlib.patches as patches"
   ]
  },
  {
   "cell_type": "code",
   "execution_count": 3,
   "metadata": {},
   "outputs": [],
   "source": [
    "custom_style = {\n",
    "    'figure.figsize': (8, 6),\n",
    "    'font.family':'sans-serif',\n",
    "    'axes.facecolor': 'lightgray',\n",
    "    'figure.facecolor':'silver',\n",
    "    'scatter.marker': 'o',\n",
    "    'font.size': 9,\n",
    "    'axes.grid': True\n",
    "    }"
   ]
  },
  {
   "cell_type": "code",
   "execution_count": 11,
   "metadata": {},
   "outputs": [
    {
     "name": "stdout",
     "output_type": "stream",
     "text": [
      "4.0\n"
     ]
    },
    {
     "data": {
      "text/plain": [
       "2.0"
      ]
     },
     "execution_count": 11,
     "metadata": {},
     "output_type": "execute_result"
    }
   ],
   "source": [
    "def soma():\n",
    "    x=float(input(\"Número:\"))\n",
    "    y=float(input(\"Número:\"))\n",
    "    print(x+y)\n",
    "    return x\n",
    "\n",
    "soma()"
   ]
  },
  {
   "cell_type": "markdown",
   "metadata": {},
   "source": [
    "#### Importação de dados (input)"
   ]
  },
  {
   "cell_type": "code",
   "execution_count": 6,
   "metadata": {},
   "outputs": [
    {
     "data": {
      "text/html": [
       "<div>\n",
       "<style scoped>\n",
       "    .dataframe tbody tr th:only-of-type {\n",
       "        vertical-align: middle;\n",
       "    }\n",
       "\n",
       "    .dataframe tbody tr th {\n",
       "        vertical-align: top;\n",
       "    }\n",
       "\n",
       "    .dataframe thead th {\n",
       "        text-align: right;\n",
       "    }\n",
       "</style>\n",
       "<table border=\"1\" class=\"dataframe\">\n",
       "  <thead>\n",
       "    <tr style=\"text-align: right;\">\n",
       "      <th></th>\n",
       "      <th>Profundidade</th>\n",
       "      <th>COT</th>\n",
       "      <th>S1</th>\n",
       "      <th>S2</th>\n",
       "      <th>S3</th>\n",
       "      <th>Tmax</th>\n",
       "      <th>IH</th>\n",
       "      <th>IO</th>\n",
       "    </tr>\n",
       "  </thead>\n",
       "  <tbody>\n",
       "    <tr>\n",
       "      <th>0</th>\n",
       "      <td>579.8</td>\n",
       "      <td>2.50</td>\n",
       "      <td>0.32</td>\n",
       "      <td>6.85</td>\n",
       "      <td>1.22</td>\n",
       "      <td>430.0</td>\n",
       "      <td>274.00</td>\n",
       "      <td>48.80</td>\n",
       "    </tr>\n",
       "    <tr>\n",
       "      <th>1</th>\n",
       "      <td>597.8</td>\n",
       "      <td>2.51</td>\n",
       "      <td>0.29</td>\n",
       "      <td>7.13</td>\n",
       "      <td>1.27</td>\n",
       "      <td>429.0</td>\n",
       "      <td>284.06</td>\n",
       "      <td>50.60</td>\n",
       "    </tr>\n",
       "    <tr>\n",
       "      <th>2</th>\n",
       "      <td>615.8</td>\n",
       "      <td>2.18</td>\n",
       "      <td>0.22</td>\n",
       "      <td>6.05</td>\n",
       "      <td>1.26</td>\n",
       "      <td>430.0</td>\n",
       "      <td>277.52</td>\n",
       "      <td>57.80</td>\n",
       "    </tr>\n",
       "    <tr>\n",
       "      <th>3</th>\n",
       "      <td>633.8</td>\n",
       "      <td>2.06</td>\n",
       "      <td>0.26</td>\n",
       "      <td>5.28</td>\n",
       "      <td>1.10</td>\n",
       "      <td>430.0</td>\n",
       "      <td>256.31</td>\n",
       "      <td>53.40</td>\n",
       "    </tr>\n",
       "    <tr>\n",
       "      <th>4</th>\n",
       "      <td>651.8</td>\n",
       "      <td>1.29</td>\n",
       "      <td>0.17</td>\n",
       "      <td>1.76</td>\n",
       "      <td>1.36</td>\n",
       "      <td>428.0</td>\n",
       "      <td>136.43</td>\n",
       "      <td>105.43</td>\n",
       "    </tr>\n",
       "    <tr>\n",
       "      <th>...</th>\n",
       "      <td>...</td>\n",
       "      <td>...</td>\n",
       "      <td>...</td>\n",
       "      <td>...</td>\n",
       "      <td>...</td>\n",
       "      <td>...</td>\n",
       "      <td>...</td>\n",
       "      <td>...</td>\n",
       "    </tr>\n",
       "    <tr>\n",
       "      <th>131</th>\n",
       "      <td>3285.8</td>\n",
       "      <td>0.62</td>\n",
       "      <td>NaN</td>\n",
       "      <td>NaN</td>\n",
       "      <td>NaN</td>\n",
       "      <td>NaN</td>\n",
       "      <td>NaN</td>\n",
       "      <td>NaN</td>\n",
       "    </tr>\n",
       "    <tr>\n",
       "      <th>132</th>\n",
       "      <td>3288.8</td>\n",
       "      <td>0.72</td>\n",
       "      <td>0.20</td>\n",
       "      <td>0.33</td>\n",
       "      <td>0.19</td>\n",
       "      <td>443.0</td>\n",
       "      <td>45.83</td>\n",
       "      <td>26.39</td>\n",
       "    </tr>\n",
       "    <tr>\n",
       "      <th>133</th>\n",
       "      <td>3303.8</td>\n",
       "      <td>0.26</td>\n",
       "      <td>0.10</td>\n",
       "      <td>0.10</td>\n",
       "      <td>0.30</td>\n",
       "      <td>NaN</td>\n",
       "      <td>38.46</td>\n",
       "      <td>115.38</td>\n",
       "    </tr>\n",
       "    <tr>\n",
       "      <th>134</th>\n",
       "      <td>3336.8</td>\n",
       "      <td>0.72</td>\n",
       "      <td>0.20</td>\n",
       "      <td>0.20</td>\n",
       "      <td>0.20</td>\n",
       "      <td>NaN</td>\n",
       "      <td>27.78</td>\n",
       "      <td>27.78</td>\n",
       "    </tr>\n",
       "    <tr>\n",
       "      <th>135</th>\n",
       "      <td>3369.8</td>\n",
       "      <td>0.52</td>\n",
       "      <td>NaN</td>\n",
       "      <td>NaN</td>\n",
       "      <td>NaN</td>\n",
       "      <td>NaN</td>\n",
       "      <td>NaN</td>\n",
       "      <td>NaN</td>\n",
       "    </tr>\n",
       "  </tbody>\n",
       "</table>\n",
       "<p>136 rows × 8 columns</p>\n",
       "</div>"
      ],
      "text/plain": [
       "     Profundidade   COT    S1    S2    S3   Tmax      IH      IO\n",
       "0           579.8  2.50  0.32  6.85  1.22  430.0  274.00   48.80\n",
       "1           597.8  2.51  0.29  7.13  1.27  429.0  284.06   50.60\n",
       "2           615.8  2.18  0.22  6.05  1.26  430.0  277.52   57.80\n",
       "3           633.8  2.06  0.26  5.28  1.10  430.0  256.31   53.40\n",
       "4           651.8  1.29  0.17  1.76  1.36  428.0  136.43  105.43\n",
       "..            ...   ...   ...   ...   ...    ...     ...     ...\n",
       "131        3285.8  0.62   NaN   NaN   NaN    NaN     NaN     NaN\n",
       "132        3288.8  0.72  0.20  0.33  0.19  443.0   45.83   26.39\n",
       "133        3303.8  0.26  0.10  0.10  0.30    NaN   38.46  115.38\n",
       "134        3336.8  0.72  0.20  0.20  0.20    NaN   27.78   27.78\n",
       "135        3369.8  0.52   NaN   NaN   NaN    NaN     NaN     NaN\n",
       "\n",
       "[136 rows x 8 columns]"
      ]
     },
     "execution_count": 6,
     "metadata": {},
     "output_type": "execute_result"
    }
   ],
   "source": [
    "def impt():\n",
    "    df1 = pd.read_csv(\"Poços_Marinho/1-ALS-2-AL.csv\")\n",
    "    df=df1[[\"Profundidade\",\"COT\",\"S1\",\"S2\",\"S3\",\"Tmax\",\"IH\",\"IO\"]]\n",
    "    return df\n",
    "\n",
    "impt()"
   ]
  },
  {
   "cell_type": "markdown",
   "metadata": {},
   "source": [
    "##### Cálculo de IH0ativo\n",
    "* IHa = 100 x (S2/(COTa))"
   ]
  },
  {
   "cell_type": "code",
   "execution_count": 8,
   "metadata": {},
   "outputs": [
    {
     "ename": "NameError",
     "evalue": "name 'df' is not defined",
     "output_type": "error",
     "traceback": [
      "\u001b[0;31m---------------------------------------------------------------------------\u001b[0m",
      "\u001b[0;31mNameError\u001b[0m                                 Traceback (most recent call last)",
      "Cell \u001b[0;32mIn[8], line 14\u001b[0m\n\u001b[1;32m     12\u001b[0m     df[\u001b[39m\"\u001b[39m\u001b[39mIH0a\u001b[39m\u001b[39m\"\u001b[39m]\u001b[39m=\u001b[39m IHa_cor\n\u001b[1;32m     13\u001b[0m     \u001b[39mreturn\u001b[39;00m df\n\u001b[0;32m---> 14\u001b[0m IHa()\n",
      "Cell \u001b[0;32mIn[8], line 3\u001b[0m, in \u001b[0;36mIHa\u001b[0;34m()\u001b[0m\n\u001b[1;32m      1\u001b[0m \u001b[39mdef\u001b[39;00m \u001b[39mIHa\u001b[39m():\n\u001b[1;32m      2\u001b[0m     impt()\n\u001b[0;32m----> 3\u001b[0m     IHa \u001b[39m=\u001b[39m (\u001b[39m100\u001b[39m\u001b[39m*\u001b[39mdf[\u001b[39m\"\u001b[39m\u001b[39mS2\u001b[39m\u001b[39m\"\u001b[39m]\u001b[39m/\u001b[39mdf[\u001b[39m\"\u001b[39m\u001b[39mCOT\u001b[39m\u001b[39m\"\u001b[39m])\n\u001b[1;32m      4\u001b[0m     IHa_cor\u001b[39m=\u001b[39m[]\n\u001b[1;32m      5\u001b[0m     \u001b[39mfor\u001b[39;00m i \u001b[39min\u001b[39;00m IHa:\n",
      "\u001b[0;31mNameError\u001b[0m: name 'df' is not defined"
     ]
    }
   ],
   "source": [
    "def IHa():\n",
    "    impt()\n",
    "    IHa = (100*df[\"S2\"]/df[\"COT\"])\n",
    "    IHa_cor=[]\n",
    "    for i in IHa:\n",
    "        if i<0:\n",
    "            IHa_cor.append(0)\n",
    "        elif i>999:\n",
    "            IHa_cor.append(999)\n",
    "        else:\n",
    "            IHa_cor.append(i) # Eliminar valores\n",
    "    df[\"IH0a\"]= IHa_cor\n",
    "    return df\n",
    "IHa()"
   ]
  },
  {
   "cell_type": "markdown",
   "metadata": {},
   "source": [
    "##### Calculo da Taxa de Transformação sem Ro (IH)\n",
    "* (IHa - IH)/ IHa"
   ]
  },
  {
   "cell_type": "code",
   "execution_count": null,
   "metadata": {},
   "outputs": [
    {
     "name": "stdout",
     "output_type": "stream",
     "text": [
      "     Profundidade   COT    S1    S2    S3   Tmax      IH      IO        IH0a  \\\n",
      "0           579.8  2.50  0.32  6.85  1.22  430.0  274.00   48.80  274.000000   \n",
      "1           597.8  2.51  0.29  7.13  1.27  429.0  284.06   50.60  284.063745   \n",
      "2           615.8  2.18  0.22  6.05  1.26  430.0  277.52   57.80  277.522936   \n",
      "3           633.8  2.06  0.26  5.28  1.10  430.0  256.31   53.40  256.310680   \n",
      "4           651.8  1.29  0.17  1.76  1.36  428.0  136.43  105.43  136.434109   \n",
      "..            ...   ...   ...   ...   ...    ...     ...     ...         ...   \n",
      "131        3285.8  0.62   NaN   NaN   NaN    NaN     NaN     NaN         NaN   \n",
      "132        3288.8  0.72  0.20  0.33  0.19  443.0   45.83   26.39   45.833333   \n",
      "133        3303.8  0.26  0.10  0.10  0.30    NaN   38.46  115.38   38.461538   \n",
      "134        3336.8  0.72  0.20  0.20  0.20    NaN   27.78   27.78   27.777778   \n",
      "135        3369.8  0.52   NaN   NaN   NaN    NaN     NaN     NaN         NaN   \n",
      "\n",
      "     Taxa de Transformação (IH)  Ro (calculada) Querogênio  % Tipo I  \\\n",
      "0                      0.000000           0.580     II/III       0.0   \n",
      "1                      0.000013           0.562     II/III       0.0   \n",
      "2                      0.000011           0.580     II/III       0.0   \n",
      "3                      0.000003           0.580     II/III       0.0   \n",
      "4                      0.000030           0.544        III       0.0   \n",
      "..                          ...             ...        ...       ...   \n",
      "131                         NaN             NaN                  0.0   \n",
      "132                    0.000073           0.814         IV       0.0   \n",
      "133                    0.000040             NaN         IV       0.0   \n",
      "134                    0.000000             NaN         IV       0.0   \n",
      "135                         NaN             NaN                  0.0   \n",
      "\n",
      "     % Tipo II  % Tipo III  % Tipo IV  \n",
      "0    45.090909   54.909091      0.000  \n",
      "1    48.749091   51.250909      0.000  \n",
      "2    46.370909   53.629091      0.000  \n",
      "3    38.658182   61.341818      0.000  \n",
      "4     0.000000   89.144000     10.856  \n",
      "..         ...         ...        ...  \n",
      "131   0.000000    0.000000      0.000  \n",
      "132   0.000000   16.664000     83.336  \n",
      "133   0.000000   10.768000     89.232  \n",
      "134   0.000000    2.224000     97.776  \n",
      "135   0.000000    0.000000      0.000  \n",
      "\n",
      "[136 rows x 16 columns]\n"
     ]
    }
   ],
   "source": [
    "def Tr_IH():\n",
    "    df[\"Taxa de Transformação (IH)\"] = ((df[\"IH0a\"]-df[\"IH\"])/df[\"IH0a\"])\n",
    "    TrIH=[]\n",
    "    for i in df[\"Taxa de Transformação (IH)\"]:\n",
    "        if i<0:\n",
    "            TrIH.append(0)\n",
    "        elif i>1:\n",
    "            TrIH.append=1\n",
    "        else:\n",
    "            TrIH.append(i)\n",
    "    df[\"Taxa de Transformação (IH)\"]=TrIH\n",
    "    print(df)\n",
    "Tr_IH()"
   ]
  },
  {
   "cell_type": "markdown",
   "metadata": {},
   "source": [
    "##### Cálculo de Ro a partir de Tmax\n",
    "* Ro calculada = (0,0180 x Tmax) - 7,16"
   ]
  },
  {
   "cell_type": "code",
   "execution_count": null,
   "metadata": {},
   "outputs": [
    {
     "name": "stdout",
     "output_type": "stream",
     "text": [
      "     Profundidade   COT    S1    S2    S3   Tmax      IH      IO        IH0a  \\\n",
      "0           579.8  2.50  0.32  6.85  1.22  430.0  274.00   48.80  274.000000   \n",
      "1           597.8  2.51  0.29  7.13  1.27  429.0  284.06   50.60  284.063745   \n",
      "2           615.8  2.18  0.22  6.05  1.26  430.0  277.52   57.80  277.522936   \n",
      "3           633.8  2.06  0.26  5.28  1.10  430.0  256.31   53.40  256.310680   \n",
      "4           651.8  1.29  0.17  1.76  1.36  428.0  136.43  105.43  136.434109   \n",
      "..            ...   ...   ...   ...   ...    ...     ...     ...         ...   \n",
      "131        3285.8  0.62   NaN   NaN   NaN    NaN     NaN     NaN         NaN   \n",
      "132        3288.8  0.72  0.20  0.33  0.19  443.0   45.83   26.39   45.833333   \n",
      "133        3303.8  0.26  0.10  0.10  0.30    NaN   38.46  115.38   38.461538   \n",
      "134        3336.8  0.72  0.20  0.20  0.20    NaN   27.78   27.78   27.777778   \n",
      "135        3369.8  0.52   NaN   NaN   NaN    NaN     NaN     NaN         NaN   \n",
      "\n",
      "     Taxa de Transformação (IH)  Ro (calculada) Querogênio  % Tipo I  \\\n",
      "0                      0.000000           0.580     II/III       0.0   \n",
      "1                      0.000013           0.562     II/III       0.0   \n",
      "2                      0.000011           0.580     II/III       0.0   \n",
      "3                      0.000003           0.580     II/III       0.0   \n",
      "4                      0.000030           0.544        III       0.0   \n",
      "..                          ...             ...        ...       ...   \n",
      "131                         NaN             NaN                  0.0   \n",
      "132                    0.000073           0.814         IV       0.0   \n",
      "133                    0.000040             NaN         IV       0.0   \n",
      "134                    0.000000             NaN         IV       0.0   \n",
      "135                         NaN             NaN                  0.0   \n",
      "\n",
      "     % Tipo II  % Tipo III  % Tipo IV  \n",
      "0    45.090909   54.909091      0.000  \n",
      "1    48.749091   51.250909      0.000  \n",
      "2    46.370909   53.629091      0.000  \n",
      "3    38.658182   61.341818      0.000  \n",
      "4     0.000000   89.144000     10.856  \n",
      "..         ...         ...        ...  \n",
      "131   0.000000    0.000000      0.000  \n",
      "132   0.000000   16.664000     83.336  \n",
      "133   0.000000   10.768000     89.232  \n",
      "134   0.000000    2.224000     97.776  \n",
      "135   0.000000    0.000000      0.000  \n",
      "\n",
      "[136 rows x 16 columns]\n"
     ]
    }
   ],
   "source": [
    "def Ro_cal():\n",
    "    df[\"Ro (calculada)\"] = (0.0180*df[\"Tmax\"])-7.16\n",
    "    Roc_cor=[]\n",
    "    for i in df[\"Ro (calculada)\"]:\n",
    "        if i<0:\n",
    "            Roc_cor.append(0)\n",
    "        else:\n",
    "            Roc_cor.append(i)\n",
    "    df[\"Ro (calculada)\"]=Roc_cor\n",
    "    print(df)\n",
    "Ro_cal()"
   ]
  },
  {
   "cell_type": "markdown",
   "metadata": {},
   "source": [
    "#### Classificação do querogênio\n",
    "* Tipo I: {IH > 600} ___ {S1/S3 > 15}\n",
    "* Tipo II: {IH > 300 and IH <= 600} ___ {S1/S3 > 10 and S1/S3 <15}\n",
    "* Tipo II/III: {IH > 200 and IH <=300} ___ {S1/S3 > 5 and S1/S3 < 10]\n",
    "* Tipo III: {IH > 50 and IH <= 200} ___ {S1/S3 > 1 and S1/S3 < 5}\n",
    "* Tipo IV: {IH <= 50} ___ {S1/S3 > 1}"
   ]
  },
  {
   "cell_type": "code",
   "execution_count": null,
   "metadata": {},
   "outputs": [
    {
     "name": "stdout",
     "output_type": "stream",
     "text": [
      "     Profundidade   COT    S1    S2    S3   Tmax      IH      IO        IH0a  \\\n",
      "0           579.8  2.50  0.32  6.85  1.22  430.0  274.00   48.80  274.000000   \n",
      "1           597.8  2.51  0.29  7.13  1.27  429.0  284.06   50.60  284.063745   \n",
      "2           615.8  2.18  0.22  6.05  1.26  430.0  277.52   57.80  277.522936   \n",
      "3           633.8  2.06  0.26  5.28  1.10  430.0  256.31   53.40  256.310680   \n",
      "4           651.8  1.29  0.17  1.76  1.36  428.0  136.43  105.43  136.434109   \n",
      "..            ...   ...   ...   ...   ...    ...     ...     ...         ...   \n",
      "131        3285.8  0.62   NaN   NaN   NaN    NaN     NaN     NaN         NaN   \n",
      "132        3288.8  0.72  0.20  0.33  0.19  443.0   45.83   26.39   45.833333   \n",
      "133        3303.8  0.26  0.10  0.10  0.30    NaN   38.46  115.38   38.461538   \n",
      "134        3336.8  0.72  0.20  0.20  0.20    NaN   27.78   27.78   27.777778   \n",
      "135        3369.8  0.52   NaN   NaN   NaN    NaN     NaN     NaN         NaN   \n",
      "\n",
      "     Taxa de Transformação (IH)  Ro (calculada) Querogênio  % Tipo I  \\\n",
      "0                      0.000000           0.580     II/III       0.0   \n",
      "1                      0.000013           0.562     II/III       0.0   \n",
      "2                      0.000011           0.580     II/III       0.0   \n",
      "3                      0.000003           0.580     II/III       0.0   \n",
      "4                      0.000030           0.544        III       0.0   \n",
      "..                          ...             ...        ...       ...   \n",
      "131                         NaN             NaN                  0.0   \n",
      "132                    0.000073           0.814         IV       0.0   \n",
      "133                    0.000040             NaN         IV       0.0   \n",
      "134                    0.000000             NaN         IV       0.0   \n",
      "135                         NaN             NaN                  0.0   \n",
      "\n",
      "     % Tipo II  % Tipo III  % Tipo IV  \n",
      "0    45.090909   54.909091      0.000  \n",
      "1    48.749091   51.250909      0.000  \n",
      "2    46.370909   53.629091      0.000  \n",
      "3    38.658182   61.341818      0.000  \n",
      "4     0.000000   89.144000     10.856  \n",
      "..         ...         ...        ...  \n",
      "131   0.000000    0.000000      0.000  \n",
      "132   0.000000   16.664000     83.336  \n",
      "133   0.000000   10.768000     89.232  \n",
      "134   0.000000    2.224000     97.776  \n",
      "135   0.000000    0.000000      0.000  \n",
      "\n",
      "[136 rows x 16 columns]\n"
     ]
    }
   ],
   "source": [
    "def K_Type():\n",
    "    K = []\n",
    "    for i in df[\"IH\"]:\n",
    "        if i > 600:\n",
    "            a=\"I\"\n",
    "        elif i > 300 and i <=600:\n",
    "            a=\"II\"\n",
    "        elif i > 200 and i <= 300:\n",
    "            a=\"II/III\"\n",
    "        elif i > 50 and i <= 200:\n",
    "            a=\"III\"\n",
    "        elif i>0 and i<=50:\n",
    "            a=\"IV\"\n",
    "        else:\n",
    "            a=\"\"\n",
    "        K.append(a)\n",
    "    querogênio=pd.DataFrame(K)\n",
    "    df[\"Querogênio\"]=querogênio\n",
    "    print(df)\n",
    "K_Type()\n"
   ]
  },
  {
   "cell_type": "markdown",
   "metadata": {},
   "source": [
    "#### End Member para tipo de querogênio"
   ]
  },
  {
   "cell_type": "code",
   "execution_count": null,
   "metadata": {},
   "outputs": [
    {
     "name": "stdout",
     "output_type": "stream",
     "text": [
      "     Profundidade   COT    S1    S2    S3   Tmax      IH      IO        IH0a  \\\n",
      "0           579.8  2.50  0.32  6.85  1.22  430.0  274.00   48.80  274.000000   \n",
      "1           597.8  2.51  0.29  7.13  1.27  429.0  284.06   50.60  284.063745   \n",
      "2           615.8  2.18  0.22  6.05  1.26  430.0  277.52   57.80  277.522936   \n",
      "3           633.8  2.06  0.26  5.28  1.10  430.0  256.31   53.40  256.310680   \n",
      "4           651.8  1.29  0.17  1.76  1.36  428.0  136.43  105.43  136.434109   \n",
      "..            ...   ...   ...   ...   ...    ...     ...     ...         ...   \n",
      "131        3285.8  0.62   NaN   NaN   NaN    NaN     NaN     NaN         NaN   \n",
      "132        3288.8  0.72  0.20  0.33  0.19  443.0   45.83   26.39   45.833333   \n",
      "133        3303.8  0.26  0.10  0.10  0.30    NaN   38.46  115.38   38.461538   \n",
      "134        3336.8  0.72  0.20  0.20  0.20    NaN   27.78   27.78   27.777778   \n",
      "135        3369.8  0.52   NaN   NaN   NaN    NaN     NaN     NaN         NaN   \n",
      "\n",
      "     Taxa de Transformação (IH)  Ro (calculada) Querogênio  % Tipo I  \\\n",
      "0                      0.000000           0.580     II/III       0.0   \n",
      "1                      0.000013           0.562     II/III       0.0   \n",
      "2                      0.000011           0.580     II/III       0.0   \n",
      "3                      0.000003           0.580     II/III       0.0   \n",
      "4                      0.000030           0.544        III       0.0   \n",
      "..                          ...             ...        ...       ...   \n",
      "131                         NaN             NaN                  0.0   \n",
      "132                    0.000073           0.814         IV       0.0   \n",
      "133                    0.000040             NaN         IV       0.0   \n",
      "134                    0.000000             NaN         IV       0.0   \n",
      "135                         NaN             NaN                  0.0   \n",
      "\n",
      "     % Tipo II  % Tipo III  % Tipo IV  \n",
      "0    45.090909   54.909091      0.000  \n",
      "1    48.749091   51.250909      0.000  \n",
      "2    46.370909   53.629091      0.000  \n",
      "3    38.658182   61.341818      0.000  \n",
      "4     0.000000   89.144000     10.856  \n",
      "..         ...         ...        ...  \n",
      "131   0.000000    0.000000      0.000  \n",
      "132   0.000000   16.664000     83.336  \n",
      "133   0.000000   10.768000     89.232  \n",
      "134   0.000000    2.224000     97.776  \n",
      "135   0.000000    0.000000      0.000  \n",
      "\n",
      "[136 rows x 16 columns]\n"
     ]
    }
   ],
   "source": [
    "# End Member\n",
    "def k_fuzzy():\n",
    "    T1 = []\n",
    "    T2 = []\n",
    "    T3 = []\n",
    "    T4 = []\n",
    "    for i in df[\"IH\"]: \n",
    "        if i >= 800:\n",
    "            end = ((i - 999)/(800 - 999))*100\n",
    "            T1.append(100) \n",
    "            T2.append(0)\n",
    "            T3.append(0)\n",
    "            T4.append(0) \n",
    "        elif i >= 425 and i <=800:\n",
    "            end = ((i - 800)/(425 - 800))*100\n",
    "            T1.append(100-end) \n",
    "            T2.append(end)\n",
    "            T3.append(0)\n",
    "            T4.append(0) \n",
    "        elif i >= 150 and i < 425:\n",
    "            end = ((i - 425)/(150 - 425))*100\n",
    "            T1.append(0) \n",
    "            T2.append(100-end)\n",
    "            T3.append(end)\n",
    "            T4.append(0) \n",
    "        elif i >=25 and i < 150:\n",
    "            end = ((i - 150)/(25 - 150))*100\n",
    "            T1.append(0) \n",
    "            T2.append(0)\n",
    "            T3.append(100-end)\n",
    "            T4.append(end) \n",
    "        elif i>=0 and i < 25:\n",
    "            T1.append(0) \n",
    "            T2.append(0)\n",
    "            T3.append(0)\n",
    "            T4.append(100) \n",
    "        else:\n",
    "            T1.append(0) \n",
    "            T2.append(0)\n",
    "            T3.append(0)\n",
    "            T4.append(0) \n",
    "    df[\"% Tipo I\"]=T1\n",
    "    df[\"% Tipo II\"]=T2\n",
    "    df[\"% Tipo III\"]=T3\n",
    "    df[\"% Tipo IV\"]=T4\n",
    "    df.to_csv(\"Planilha.csv\")\n",
    "    print(df)\n",
    "k_fuzzy()\n",
    "\n",
    "\n",
    "\n"
   ]
  },
  {
   "cell_type": "markdown",
   "metadata": {},
   "source": [
    "#### Decisão sobre tipo de Querogênio"
   ]
  },
  {
   "cell_type": "code",
   "execution_count": null,
   "metadata": {},
   "outputs": [
    {
     "ename": "NameError",
     "evalue": "name 'TI' is not defined",
     "output_type": "error",
     "traceback": [
      "\u001b[0;31m---------------------------------------------------------------------------\u001b[0m",
      "\u001b[0;31mNameError\u001b[0m                                 Traceback (most recent call last)",
      "Cell \u001b[0;32mIn[59], line 7\u001b[0m\n\u001b[1;32m      5\u001b[0m     TIII\u001b[39m=\u001b[39mdf[\u001b[39m\"\u001b[39m\u001b[39m%\u001b[39m\u001b[39m Tipo III\u001b[39m\u001b[39m\"\u001b[39m]\u001b[39m.\u001b[39mdropna()\u001b[39m.\u001b[39mvalues\u001b[39m.\u001b[39msum()\n\u001b[1;32m      6\u001b[0m     TIV\u001b[39m=\u001b[39mdf[\u001b[39m\"\u001b[39m\u001b[39m%\u001b[39m\u001b[39m Tipo IV\u001b[39m\u001b[39m\"\u001b[39m]\u001b[39m.\u001b[39mdropna()\u001b[39m.\u001b[39mvalues\u001b[39m.\u001b[39msum()\n\u001b[0;32m----> 7\u001b[0m k_sum(TI)\n\u001b[1;32m      8\u001b[0m data\u001b[39m=\u001b[39m[TI,TII,TIII,TIV]\n\u001b[1;32m      9\u001b[0m \u001b[39mprint\u001b[39m(data)\n",
      "\u001b[0;31mNameError\u001b[0m: name 'TI' is not defined"
     ]
    }
   ],
   "source": [
    "x=['% Tipo I', '% Tipo II', '% Tipo III', '% Tipo IV']\n",
    "def k_sum():\n",
    "    TI=df[\"% Tipo I\"].dropna().values.sum()\n",
    "    TII=df[\"% Tipo II\"].dropna().values.sum()\n",
    "    TIII=df[\"% Tipo III\"].dropna().values.sum()\n",
    "    TIV=df[\"% Tipo IV\"].dropna().values.sum()\n",
    "k_sum(TI)\n",
    "data=[TI,TII,TIII,TIV]\n",
    "print(data)"
   ]
  },
  {
   "cell_type": "code",
   "execution_count": null,
   "metadata": {},
   "outputs": [
    {
     "name": "stdout",
     "output_type": "stream",
     "text": [
      "[609.584, 2500.205090909091, 4670.314909090908, 1719.8960000000002]\n"
     ]
    },
    {
     "ename": "NameError",
     "evalue": "name 'x' is not defined",
     "output_type": "error",
     "traceback": [
      "\u001b[0;31m---------------------------------------------------------------------------\u001b[0m",
      "\u001b[0;31mNameError\u001b[0m                                 Traceback (most recent call last)",
      "Cell \u001b[0;32mIn[57], line 10\u001b[0m\n\u001b[1;32m      8\u001b[0m     plt\u001b[39m.\u001b[39msavefig(\u001b[39m\"\u001b[39m\u001b[39mBarplot_K.pdf\u001b[39m\u001b[39m\"\u001b[39m)\n\u001b[1;32m      9\u001b[0m     plt\u001b[39m.\u001b[39mshow()\n\u001b[0;32m---> 10\u001b[0m k_barplot()\n",
      "Cell \u001b[0;32mIn[57], line 3\u001b[0m, in \u001b[0;36mk_barplot\u001b[0;34m()\u001b[0m\n\u001b[1;32m      1\u001b[0m \u001b[39mdef\u001b[39;00m \u001b[39mk_barplot\u001b[39m():\n\u001b[1;32m      2\u001b[0m     k_sum()\n\u001b[0;32m----> 3\u001b[0m     plt\u001b[39m.\u001b[39mbar(x,data,\u001b[39m0.4\u001b[39m, facecolor\u001b[39m=\u001b[39m\u001b[39m\"\u001b[39m\u001b[39mdimgray\u001b[39m\u001b[39m\"\u001b[39m)\n\u001b[1;32m      4\u001b[0m     \u001b[39m#custom_labels_x = ['% Tipo I', '% Tipo II', '% Tipo III', '% Tipo IV']\u001b[39;00m\n\u001b[1;32m      5\u001b[0m     \u001b[39m#plt.xticks(np.arange(1, len(custom_labels_x) + 1), custom_labels_x)\u001b[39;00m\n\u001b[1;32m      6\u001b[0m     plt\u001b[39m.\u001b[39mstyle\u001b[39m.\u001b[39muse(custom_style)\n",
      "\u001b[0;31mNameError\u001b[0m: name 'x' is not defined"
     ]
    }
   ],
   "source": [
    "def k_barplot():\n",
    "    k_sum()\n",
    "    plt.bar(x,data,0.4, facecolor=\"dimgray\")\n",
    "    #custom_labels_x = ['% Tipo I', '% Tipo II', '% Tipo III', '% Tipo IV']\n",
    "    #plt.xticks(np.arange(1, len(custom_labels_x) + 1), custom_labels_x)\n",
    "    plt.style.use(custom_style)\n",
    "    plt.ylabel(\"% Tipo de Querogênio\")\n",
    "    plt.savefig(\"Barplot_K.pdf\")\n",
    "    plt.show()\n",
    "k_barplot()"
   ]
  },
  {
   "cell_type": "markdown",
   "metadata": {},
   "source": [
    "#### Cálculo de Tr por Ro e tipo de querogênio\n",
    "* Tipo_I = -34.430609 + (183.63837 * Ro) - (361.494 * Ro**2) + (309.9 * Ro**3) - (96.8 * Ro**4)\n",
    "* Tipo_II = -822.70308 + (6217.2684 * Ro) - (19265.314 * Ro**2) + (31326.872 * Ro**3) - (28204.703 * Ro**4) + (13345.477 * Ro**5) - (2595.9299 * Ro**6)\n",
    "* Tipo_III = 6.6516023 - (33.879196 * Ro) + (64.978399 * Ro**2) - (60.264818 * Ro**3) + (29.700408 * Ro**4) - (7.5019085 * Ro**5) + (0.7656397 * Ro**6)\n"
   ]
  },
  {
   "cell_type": "code",
   "execution_count": null,
   "metadata": {},
   "outputs": [
    {
     "name": "stdout",
     "output_type": "stream",
     "text": [
      "Valor medio da Ro calculada: 0.6936129032258057\n"
     ]
    },
    {
     "ename": "NameError",
     "evalue": "name 'TI' is not defined",
     "output_type": "error",
     "traceback": [
      "\u001b[0;31m---------------------------------------------------------------------------\u001b[0m",
      "\u001b[0;31mNameError\u001b[0m                                 Traceback (most recent call last)",
      "Cell \u001b[0;32mIn[39], line 29\u001b[0m\n\u001b[1;32m     27\u001b[0m     \u001b[39melse\u001b[39;00m:\n\u001b[1;32m     28\u001b[0m         TRo \u001b[39m=\u001b[39m TRo\n\u001b[0;32m---> 29\u001b[0m k_Tr()\n",
      "Cell \u001b[0;32mIn[39], line 9\u001b[0m, in \u001b[0;36mk_Tr\u001b[0;34m()\u001b[0m\n\u001b[1;32m      6\u001b[0m Eq_II \u001b[39m=\u001b[39m \u001b[39m-\u001b[39m\u001b[39m822.70308\u001b[39m \u001b[39m+\u001b[39m (\u001b[39m6217.2684\u001b[39m \u001b[39m*\u001b[39m Ro) \u001b[39m-\u001b[39m (\u001b[39m19265.314\u001b[39m \u001b[39m*\u001b[39m Ro\u001b[39m*\u001b[39m\u001b[39m*\u001b[39m\u001b[39m2\u001b[39m) \u001b[39m+\u001b[39m (\u001b[39m31326.872\u001b[39m \u001b[39m*\u001b[39m Ro\u001b[39m*\u001b[39m\u001b[39m*\u001b[39m\u001b[39m3\u001b[39m) \u001b[39m-\u001b[39m (\u001b[39m28204.703\u001b[39m \u001b[39m*\u001b[39m Ro\u001b[39m*\u001b[39m\u001b[39m*\u001b[39m\u001b[39m4\u001b[39m) \u001b[39m+\u001b[39m (\u001b[39m13345.477\u001b[39m \u001b[39m*\u001b[39m Ro\u001b[39m*\u001b[39m\u001b[39m*\u001b[39m\u001b[39m5\u001b[39m) \u001b[39m-\u001b[39m (\u001b[39m2595.9299\u001b[39m \u001b[39m*\u001b[39m Ro\u001b[39m*\u001b[39m\u001b[39m*\u001b[39m\u001b[39m6\u001b[39m)\n\u001b[1;32m      7\u001b[0m Eq_III \u001b[39m=\u001b[39m \u001b[39m6.6516023\u001b[39m \u001b[39m-\u001b[39m (\u001b[39m33.879196\u001b[39m \u001b[39m*\u001b[39m Ro) \u001b[39m+\u001b[39m (\u001b[39m64.978399\u001b[39m \u001b[39m*\u001b[39m Ro\u001b[39m*\u001b[39m\u001b[39m*\u001b[39m\u001b[39m2\u001b[39m) \u001b[39m-\u001b[39m (\u001b[39m60.264818\u001b[39m \u001b[39m*\u001b[39m Ro\u001b[39m*\u001b[39m\u001b[39m*\u001b[39m\u001b[39m3\u001b[39m) \u001b[39m+\u001b[39m (\u001b[39m29.700408\u001b[39m \u001b[39m*\u001b[39m Ro\u001b[39m*\u001b[39m\u001b[39m*\u001b[39m\u001b[39m4\u001b[39m) \u001b[39m-\u001b[39m (\u001b[39m7.5019085\u001b[39m \u001b[39m*\u001b[39m Ro\u001b[39m*\u001b[39m\u001b[39m*\u001b[39m\u001b[39m5\u001b[39m) \u001b[39m+\u001b[39m (\u001b[39m0.7656397\u001b[39m \u001b[39m*\u001b[39m Ro\u001b[39m*\u001b[39m\u001b[39m*\u001b[39m\u001b[39m6\u001b[39m)\n\u001b[0;32m----> 9\u001b[0m \u001b[39mif\u001b[39;00m TI \u001b[39m>\u001b[39m TII \u001b[39mand\u001b[39;00m TI \u001b[39m>\u001b[39m TIII \u001b[39mand\u001b[39;00m TI \u001b[39m>\u001b[39m TIV:\n\u001b[1;32m     10\u001b[0m     TRo\u001b[39m=\u001b[39mEq_I\n\u001b[1;32m     11\u001b[0m     \u001b[39mprint\u001b[39m(\u001b[39m\"\u001b[39m\u001b[39mQuerogênio Tipo I\u001b[39m\u001b[39m\"\u001b[39m)\n",
      "\u001b[0;31mNameError\u001b[0m: name 'TI' is not defined"
     ]
    }
   ],
   "source": [
    "def k_Tr():\n",
    "    Ro = df[\"Ro (calculada)\"].mean()\n",
    "    print(\"Valor medio da Ro calculada:\", Ro )\n",
    "    #for Ro in df[\"Ro (calculada)\"]:\n",
    "    Eq_I = -34.430609 + (183.63837 * Ro) - (361.494 * Ro**2) + (309.9 * Ro**3) - (96.8 * Ro**4)\n",
    "    Eq_II = -822.70308 + (6217.2684 * Ro) - (19265.314 * Ro**2) + (31326.872 * Ro**3) - (28204.703 * Ro**4) + (13345.477 * Ro**5) - (2595.9299 * Ro**6)\n",
    "    Eq_III = 6.6516023 - (33.879196 * Ro) + (64.978399 * Ro**2) - (60.264818 * Ro**3) + (29.700408 * Ro**4) - (7.5019085 * Ro**5) + (0.7656397 * Ro**6)\n",
    "        \n",
    "    if TI > TII and TI > TIII and TI > TIV:\n",
    "        TRo=Eq_I\n",
    "        print(\"Querogênio Tipo I\")\n",
    "    elif TII > TI and TII > TIII and TII > TIV:\n",
    "        TRo=Eq_II\n",
    "        print(\"Querogênio Tipo II\")\n",
    "    elif TIII > TI and TIII > TII and TIII > TIV:\n",
    "        TRo=Eq_III\n",
    "        print(\"Querogênio Tipo III\")\n",
    "    else:\n",
    "        TRo=0\n",
    "        print(\"Querogênio Tipo IV\")\n",
    "    print(\"Taxa de TRansformação (Ro):\", TRo)\n",
    "\n",
    "    if i > 1:\n",
    "        TRo = 1\n",
    "    elif TRo < 0:\n",
    "        TRo = 0\n",
    "    else:\n",
    "        TRo = TRo\n",
    "k_Tr()"
   ]
  },
  {
   "cell_type": "code",
   "execution_count": null,
   "metadata": {},
   "outputs": [],
   "source": []
  }
 ],
 "metadata": {
  "kernelspec": {
   "display_name": "Python 3",
   "language": "python",
   "name": "python3"
  },
  "language_info": {
   "codemirror_mode": {
    "name": "ipython",
    "version": 3
   },
   "file_extension": ".py",
   "mimetype": "text/x-python",
   "name": "python",
   "nbconvert_exporter": "python",
   "pygments_lexer": "ipython3",
   "version": "3.10.12"
  },
  "orig_nbformat": 4
 },
 "nbformat": 4,
 "nbformat_minor": 2
}
