{
 "cells": [
  {
   "cell_type": "code",
   "execution_count": null,
   "metadata": {},
   "outputs": [],
   "source": [
    "%matplotlib inline\n",
    "import pandas as pd\n",
    "import scipy\n",
    "import numpy as np\n",
    "import matplotlib.pyplot as plt\n",
    "from sklearn.linear_model import LinearRegression\n",
    "from sklearn.cluster import KMeans\n",
    "from sklearn.preprocessing import StandardScaler\n",
    "import seaborn as sns\n",
    "from matplotlib.gridspec import GridSpec\n",
    "import matplotlib.patches as patches"
   ]
  },
  {
   "cell_type": "code",
   "execution_count": null,
   "metadata": {},
   "outputs": [],
   "source": [
    "# keys = plt.rcParams.keys()\n",
    "# print(keys)\n",
    "# 'font.sans-serif': \"Verdana\",\n",
    "\n",
    "custom_style = {\n",
    "    'figure.figsize': (8, 6),\n",
    "    'font.family':'sans-serif',\n",
    "    'axes.facecolor': 'white',\n",
    "    'figure.facecolor':'lightgray',\n",
    "    'scatter.marker': 'o',\n",
    "    'font.size': 9,\n",
    "    'axes.grid': True\n",
    "    }"
   ]
  },
  {
   "cell_type": "markdown",
   "metadata": {},
   "source": [
    "## Van Krevelen (IH x IO)"
   ]
  },
  {
   "cell_type": "markdown",
   "metadata": {},
   "source": [
    "### Tipo IV"
   ]
  },
  {
   "cell_type": "code",
   "execution_count": null,
   "metadata": {},
   "outputs": [],
   "source": [
    "df = pd.read_csv(\"IH_IO/Norma.csv\")\n",
    "X=[]\n",
    "Y=[]\n",
    "for i in df[\"x\"]:\n",
    "    j=0.057*i-25.248\n",
    "    X.append(j)\n",
    "for a in df[\"y\"]:\n",
    "    b=-0.27*a+1231.88\n",
    "    Y.append(b)\n",
    "df[\"X\"]=X\n",
    "df[\"Y\"]=Y\n",
    "\n",
    "df.to_csv(\"NormaIV.csv\")\n",
    "df"
   ]
  },
  {
   "cell_type": "code",
   "execution_count": null,
   "metadata": {},
   "outputs": [],
   "source": [
    "import numpy as np\n",
    "import matplotlib.pyplot as plt\n",
    "\n",
    "# Sample data\n",
    "x = X\n",
    "y = Y\n",
    "\n",
    "# Define the degree of the polynomial\n",
    "degree = 5\n",
    "# Fit a polynomial of the specified degree to the data\n",
    "coefficients = np.polyfit(x, y, degree)\n",
    "\n",
    "# Create a polynomial function from the coefficients\n",
    "poly_function = np.poly1d(coefficients)\n",
    "\n",
    "# Print the polynomial equation\n",
    "print(f'Fitted Polynomial Equation (Degree {degree}):')\n",
    "print(poly_function)\n",
    "\n",
    "# Generate x values for the fitted curve\n",
    "x_fit = np.linspace(40, 160)\n",
    "\n",
    "# Evaluate the polynomial function at these x values\n",
    "y_fit = poly_function(x_fit)\n",
    "\n",
    "# Plot the data points\n",
    "plt.scatter(x, y, label='Data')\n",
    "\n",
    "# Plot the fitted polynomial curve\n",
    "plt.plot(x_fit, y_fit, label=f'Fitted Polynomial (Degree {degree})', color='red')\n",
    "\n",
    "# Add labels and a legend\n",
    "plt.xlabel('X')\n",
    "plt.ylabel('Y')\n",
    "plt.legend()\n",
    "\n",
    "# Show the plot\n",
    "plt.show()\n"
   ]
  },
  {
   "cell_type": "code",
   "execution_count": null,
   "metadata": {},
   "outputs": [],
   "source": [
    "range=np.arange(40,160)\n",
    "IH=[]\n",
    "for x in range:\n",
    "    T4 = ((1.047*(10**-8))*(x**5))-((5.815*(10**-6))*(x**4)) + (0.001245*(x**3)) - (0.1309*(x**2)) + (6.969*x) - 57.58\n",
    "    IH.append(T4)\n",
    "IH_df=pd.DataFrame(IH)\n",
    "IH_df.to_csv(\"IH_df.csv\")\n"
   ]
  },
  {
   "cell_type": "code",
   "execution_count": null,
   "metadata": {},
   "outputs": [],
   "source": [
    "plt.plot(range,IH_df)\n",
    "plt.xlim(0,200)\n",
    "plt.ylim(0,1000)"
   ]
  },
  {
   "cell_type": "markdown",
   "metadata": {},
   "source": [
    "### Tipo III"
   ]
  },
  {
   "cell_type": "code",
   "execution_count": null,
   "metadata": {},
   "outputs": [],
   "source": [
    "df1 = pd.read_csv(\"IH_IO/Norma3.csv\")\n",
    "X1=[]\n",
    "Y1=[]\n",
    "for i in df1[\"x\"]:\n",
    "    j=0.057*i-25.248\n",
    "    X1.append(j)\n",
    "for a in df1[\"y\"]:\n",
    "    b=-0.27*a+1231.88\n",
    "    Y1.append(b)\n",
    "df1[\"X\"]=X1\n",
    "df1[\"Y\"]=Y1\n",
    "df1\n",
    "df1.to_csv(\"NormaIII.csv\")"
   ]
  },
  {
   "cell_type": "code",
   "execution_count": null,
   "metadata": {},
   "outputs": [],
   "source": [
    "import numpy as np\n",
    "import matplotlib.pyplot as plt\n",
    "\n",
    "# Sample data\n",
    "x = X1\n",
    "y = Y1\n",
    "\n",
    "# Define the degree of the polynomial\n",
    "degree = 4\n",
    "# Fit a polynomial of the specified degree to the data\n",
    "coefficients = np.polyfit(x, y, degree)\n",
    "\n",
    "# Create a polynomial function from the coefficients\n",
    "poly_function = np.poly1d(coefficients)\n",
    "\n",
    "# Print the polynomial equation\n",
    "print(f'Fitted Polynomial Equation (Degree {degree}):')\n",
    "print(poly_function)\n",
    "\n",
    "# Generate x values for the fitted curve\n",
    "x_fit = np.linspace(40, 160)\n",
    "\n",
    "# Evaluate the polynomial function at these x values\n",
    "y_fit = poly_function(x_fit)\n",
    "\n",
    "# Plot the data points\n",
    "plt.scatter(x, y, label='Data')\n",
    "\n",
    "# Plot the fitted polynomial curve\n",
    "plt.plot(x_fit, y_fit, label=f'Fitted Polynomial (Degree {degree})', color='red')\n",
    "\n",
    "# Add labels and a legend\n",
    "plt.xlabel('X')\n",
    "plt.ylabel('Y')\n",
    "plt.legend()\n",
    "\n",
    "# Show the plot\n",
    "plt.show()\n"
   ]
  },
  {
   "cell_type": "code",
   "execution_count": null,
   "metadata": {},
   "outputs": [],
   "source": [
    "range2=np.arange(20,160)\n",
    "IH3=[]\n",
    "for x in range2:\n",
    "    T3 = ((-2.543*(10**-6)*(x**4))) + (0.00101*(x**3)) - (0.1514*(x**2)) + (10.38*x) - 64.21\n",
    "    IH3.append(T3)\n",
    "IH3_df=pd.DataFrame(IH3)\n",
    "IH3_df.to_csv(\"IH3_df.csv\")\n",
    "IH3_df"
   ]
  },
  {
   "cell_type": "code",
   "execution_count": null,
   "metadata": {},
   "outputs": [],
   "source": [
    "plt.plot(range2,IH3_df)\n",
    "plt.xlim(0,200)\n",
    "plt.ylim(0,1000)"
   ]
  },
  {
   "cell_type": "markdown",
   "metadata": {},
   "source": [
    "### Tipo I/II"
   ]
  },
  {
   "cell_type": "code",
   "execution_count": null,
   "metadata": {},
   "outputs": [],
   "source": [
    "df2 = pd.read_csv(\"IH_IO/Norma12.csv\")\n",
    "X=[]\n",
    "Y=[]\n",
    "for i in df2[\"x\"]:\n",
    "    j=0.057*i-25.248\n",
    "    X.append(j)\n",
    "for a in df2[\"y\"]:\n",
    "    b=-0.27*a+1231.88\n",
    "    Y.append(b)\n",
    "df2[\"X\"]=X\n",
    "df2[\"Y\"]=Y\n",
    "df2\n",
    "df2.to_csv(\"NormaI_II.csv\")"
   ]
  },
  {
   "cell_type": "code",
   "execution_count": null,
   "metadata": {},
   "outputs": [],
   "source": [
    "range4=np.arange(7.0,11.0,0.5)\n",
    "IH12=[]\n",
    "for x in range4:\n",
    "    T12 = (3.107862854*(x**4)) - (96.793044354*(x**3)) + (1144.1301092*(x**2)) - (6036.4831648*x) + 12018.171211\n",
    "    IH12.append(T12)\n",
    "IH12_df=pd.DataFrame(IH12)\n",
    "IH12_df.to_csv(\"IH1_2_df.csv\")\n",
    "IH12_df"
   ]
  },
  {
   "cell_type": "code",
   "execution_count": null,
   "metadata": {},
   "outputs": [],
   "source": [
    "plt.plot(range4,IH12_df)\n",
    "plt.xlim(0,200)\n",
    "plt.ylim(0,1000)"
   ]
  },
  {
   "cell_type": "markdown",
   "metadata": {},
   "source": [
    "### Tipo II"
   ]
  },
  {
   "cell_type": "code",
   "execution_count": null,
   "metadata": {},
   "outputs": [],
   "source": [
    "df3 = pd.read_csv(\"IH_IO/Norma2.csv\")\n",
    "X=[]\n",
    "Y=[]\n",
    "for i in df3[\"x\"]:\n",
    "    j=0.057*i-25.248\n",
    "    X.append(j)\n",
    "for a in df3[\"y\"]:\n",
    "    b=-0.27*a+1231.88\n",
    "    Y.append(b)\n",
    "df3[\"X\"]=X\n",
    "df3[\"Y\"]=Y\n",
    "df3\n",
    "df3.to_csv(\"NormaII.csv\")"
   ]
  },
  {
   "cell_type": "code",
   "execution_count": null,
   "metadata": {},
   "outputs": [],
   "source": [
    "range5=np.arange(10,58)\n",
    "IH2=[]\n",
    "for x in range5:\n",
    "    T2 = ((-0.00011683)*(x**4)) + (0.01916740603*(x**3)) - (1.2250636761*(x**2)) + (38.6173184469*x) + 124.366169274\n",
    "    IH2.append(T2)\n",
    "IH2_df=pd.DataFrame(IH2)\n",
    "IH2_df.to_csv(\"IH2_df.csv\")\n",
    "IH2_df"
   ]
  },
  {
   "cell_type": "code",
   "execution_count": null,
   "metadata": {},
   "outputs": [],
   "source": [
    "plt.plot(range5,IH2_df)\n",
    "plt.xlim(0,200)\n",
    "plt.ylim(0,1000)"
   ]
  },
  {
   "cell_type": "markdown",
   "metadata": {},
   "source": [
    "### Tipo I"
   ]
  },
  {
   "cell_type": "code",
   "execution_count": null,
   "metadata": {},
   "outputs": [],
   "source": [
    "df4 = pd.read_csv(\"IH_IO/Norma1.csv\")\n",
    "X4=[]\n",
    "Y4=[]\n",
    "for i in df4[\"x\"]:\n",
    "    j=0.057*i-25.248\n",
    "    X4.append(j)\n",
    "for a in df4[\"y\"]:\n",
    "    b=-0.27*a+1231.88\n",
    "    Y4.append(b)\n",
    "df4[\"X\"]=X4\n",
    "df4[\"Y\"]=Y4\n",
    "df4\n",
    "df4.to_csv(\"NormaI.csv\")"
   ]
  },
  {
   "cell_type": "code",
   "execution_count": null,
   "metadata": {},
   "outputs": [],
   "source": [
    "import numpy as np\n",
    "import matplotlib.pyplot as plt\n",
    "\n",
    "# Sample data\n",
    "x = X4\n",
    "y = Y4\n",
    "\n",
    "# Define the degree of the polynomial\n",
    "degree = 4\n",
    "# Fit a polynomial of the specified degree to the data\n",
    "coefficients = np.polyfit(x, y, degree)\n",
    "\n",
    "# Create a polynomial function from the coefficients\n",
    "poly_function = np.poly1d(coefficients)\n",
    "\n",
    "# Print the polynomial equation\n",
    "print(f'Fitted Polynomial Equation (Degree {degree}):')\n",
    "print(poly_function)\n",
    "\n",
    "# Generate x values for the fitted curve\n",
    "x_fit = np.linspace(10, 33)\n",
    "\n",
    "# Evaluate the polynomial function at these x values\n",
    "y_fit = poly_function(x_fit)\n",
    "\n",
    "# Plot the data points\n",
    "plt.scatter(x, y, label='Data')\n",
    "\n",
    "# Plot the fitted polynomial curve\n",
    "plt.plot(x_fit, y_fit, label=f'Fitted Polynomial (Degree {degree})', color='red')\n",
    "\n",
    "# Add labels and a legend\n",
    "plt.xlabel('X')\n",
    "plt.ylabel('Y')\n",
    "plt.legend()\n",
    "\n",
    "# Show the plot\n",
    "plt.show()\n"
   ]
  },
  {
   "cell_type": "code",
   "execution_count": null,
   "metadata": {},
   "outputs": [],
   "source": [
    "range6=np.arange(10,30)\n",
    "IH1=[]\n",
    "for x in range6:\n",
    "    T1 =  (-0.01042*(x**4)) + (0.9557*(x**3)) - (32.58*(x**2)) + (499.2*x) - 2125\n",
    "    IH1.append(T1)\n",
    "IH1_df=pd.DataFrame(IH1)\n",
    "IH1_df.to_csv(\"IH2_df.csv\")\n",
    "IH1_df"
   ]
  },
  {
   "cell_type": "code",
   "execution_count": null,
   "metadata": {},
   "outputs": [],
   "source": [
    "plt.plot(range6,IH1_df)\n",
    "plt.xlim(0,200)\n",
    "plt.ylim(0,1000)"
   ]
  },
  {
   "cell_type": "code",
   "execution_count": null,
   "metadata": {},
   "outputs": [],
   "source": [
    "# Figura com tamanho A4\n",
    "\n",
    "a4_width = 8.27  # inches\n",
    "a4_height = 11.69  # inches\n",
    "\n",
    "fig,ax = plt.subplots(figsize=(a4_width, a4_height))\n",
    "\n",
    "ax1=ax.plot(range,IH_df, c=\"dimgray\")\n",
    "ax2=ax.plot(range2,IH3_df, c=\"dimgray\")\n",
    "ax3=ax.plot(range4,IH12_df, c=\"dimgray\")\n",
    "ax4=ax.plot(range5,IH2_df, c=\"dimgray\")\n",
    "ax5=ax.plot(range6,IH1_df, c=\"dimgray\")\n",
    "ax.set_xlim(0,200)\n",
    "ax.set_ylim(0,1000)\n",
    "ax.set_ylabel(\"Índice de Hidrogênio (mgHC/gCOT)\", fontsize=11)\n",
    "ax.set_xlabel(\"Índice de Oxigênio (mgHC/gCOT)\", fontsize=11)\n",
    "ax.text(30,900, \"Tipo I\", fontsize=11)\n",
    "ax.text(60,670, \"Tipo II\", fontsize=11)\n",
    "ax.text(165,210, \"Tipo III\", fontsize=11)\n",
    "ax.text(165,100, \"Tipo IV\", fontsize=11)\n",
    "plt.style.use(custom_style)"
   ]
  },
  {
   "cell_type": "markdown",
   "metadata": {},
   "source": [
    "## Van Krevelen (Tmax x IH)"
   ]
  },
  {
   "cell_type": "markdown",
   "metadata": {},
   "source": [
    "#### Tipo III"
   ]
  },
  {
   "cell_type": "code",
   "execution_count": null,
   "metadata": {},
   "outputs": [],
   "source": [
    "df = pd.read_csv(\"cartes3.csv\")\n",
    "xt3=[]\n",
    "yt3=[]\n",
    "for i in df[\"x\"]:\n",
    "    j=(0.03*i)+367.17\n",
    "    xt3.append(j)\n",
    "for a in df[\"y\"]:\n",
    "    b=(-0.278*a)+1065.2\n",
    "    yt3.append(b)\n",
    "df[\"X\"]=xt3\n",
    "df[\"Y\"]=yt3\n",
    "df.to_csv(\"Norma3.csv\")\n",
    "df"
   ]
  },
  {
   "cell_type": "code",
   "execution_count": null,
   "metadata": {},
   "outputs": [],
   "source": [
    "ranget31=np.arange(410,440)\n",
    "IH_T31=[]\n",
    "for x in ranget31:\n",
    "    t31= - ((1.86013359839361*(10**-5))*(x**4)) + 0.0319787020076214*(x**3) - 20.6489279069428*(x**2) + 5935.14482137628*x - 640425.205747287\n",
    "    IH_T31.append(t31)\n",
    "IH_T31_df=pd.DataFrame(IH_T31)\n",
    "#IH_T31_df.to_csv(\"Tmax3.csv\")\n",
    "#IH_T31_df\n"
   ]
  },
  {
   "cell_type": "code",
   "execution_count": null,
   "metadata": {},
   "outputs": [],
   "source": [
    "plt.plot(ranget31,IH_T31)\n",
    "plt.xlim(400,520)\n",
    "plt.ylim(0,1000)"
   ]
  },
  {
   "cell_type": "code",
   "execution_count": null,
   "metadata": {},
   "outputs": [],
   "source": [
    "ranget32=np.arange(440,500)\n",
    "IH_T32=[]\n",
    "for x in ranget32:\n",
    "    t32= (1.04413640514282*(10**-6))*(x**5) - 0.00254314624149074*(x**4) + 2.47421148684642*(x**3) - 1201.86626897312*(x**2) + 291485.76357631*x - 28235317.4338638\n",
    "    IH_T32.append(t32)\n",
    "IH_T32_df=pd.DataFrame(IH_T32)\n",
    "#IH_T32_df.to_csv(\"Tmax3.csv\")\n",
    "#IH_T32_df\n"
   ]
  },
  {
   "cell_type": "code",
   "execution_count": null,
   "metadata": {},
   "outputs": [],
   "source": [
    "plt.plot(ranget32,IH_T32)\n",
    "plt.xlim(400,520)\n",
    "plt.ylim(0,1000)"
   ]
  },
  {
   "cell_type": "markdown",
   "metadata": {},
   "source": [
    "#### Tipo II"
   ]
  },
  {
   "cell_type": "code",
   "execution_count": null,
   "metadata": {},
   "outputs": [],
   "source": [
    "df = pd.read_csv(\"cartes2.csv\")\n",
    "xt2=[]\n",
    "yt2=[]\n",
    "for i in df[\"x\"]:\n",
    "    j=(0.03*i)+367.17\n",
    "    xt2.append(j)\n",
    "for a in df[\"y\"]:\n",
    "    b=(-0.278*a)+1065.2\n",
    "    yt2.append(b)\n",
    "df[\"X\"]=xt2\n",
    "df[\"Y\"]=yt2\n",
    "#df.to_csv(\"Norma2.csv\")\n",
    "#df"
   ]
  },
  {
   "cell_type": "code",
   "execution_count": null,
   "metadata": {},
   "outputs": [],
   "source": [
    "ranget21=np.arange(450,500)\n",
    "IH_T21=[]\n",
    "for x in ranget21:\n",
    "    t21 = - (3.66713589560743*(10**-5))*(x**4) + 0.0660112038443381*(x**3) - 44.2259505852541*(x**2) + 13049.4973910725*x - 1427642.93512761\n",
    "    IH_T21.append(t21)\n",
    "IH_T21_df=pd.DataFrame(IH_T21)\n",
    "#IH_T21_df.to_csv(\"Tmax3.csv\")\n",
    "#IH_T21_df\n"
   ]
  },
  {
   "cell_type": "code",
   "execution_count": null,
   "metadata": {},
   "outputs": [],
   "source": [
    "plt.plot(ranget21,IH_T21)\n",
    "plt.xlim(400,520)\n",
    "plt.ylim(0,1000)"
   ]
  },
  {
   "cell_type": "code",
   "execution_count": null,
   "metadata": {},
   "outputs": [],
   "source": [
    "ranget22=np.arange(410,450)\n",
    "IH_T22=[]\n",
    "for x in ranget22:\n",
    "    t22 = - 0.00779809421820324*(x**3) + 9.69734818997292*(x**2) - 4018.96003085102*x + 555785.38266497\n",
    "    IH_T22.append(t22)\n",
    "IH_T22_df=pd.DataFrame(IH_T22)\n",
    "#IH_T22_df.to_csv(\"Tmax3.csv\")\n",
    "#IH_T22_df\n"
   ]
  },
  {
   "cell_type": "code",
   "execution_count": null,
   "metadata": {},
   "outputs": [],
   "source": [
    "plt.plot(ranget22,IH_T22)\n",
    "plt.xlim(400,520)\n",
    "plt.ylim(0,1000)"
   ]
  },
  {
   "cell_type": "markdown",
   "metadata": {},
   "source": [
    "#### Tipo I"
   ]
  },
  {
   "cell_type": "code",
   "execution_count": null,
   "metadata": {},
   "outputs": [],
   "source": [
    "df = pd.read_csv(\"cartes11.csv\")\n",
    "xt11=[]\n",
    "yt11=[]\n",
    "for i in df[\"x\"]:\n",
    "    j=(0.03*i)+367.17\n",
    "    xt11.append(j)\n",
    "for a in df[\"y\"]:\n",
    "    b=(-0.278*a)+1065.2\n",
    "    yt11.append(b)\n",
    "df[\"X\"]=xt11\n",
    "df[\"Y\"]=yt11\n",
    "#df.to_csv(\"Norma11.csv\")\n",
    "#df"
   ]
  },
  {
   "cell_type": "code",
   "execution_count": null,
   "metadata": {},
   "outputs": [],
   "source": [
    "ranget11=np.arange(410,440)\n",
    "IH_T11=[]\n",
    "for x in ranget11:\n",
    "    t11 = (-0.0268*(x**2)) + (21.98*x) - 3526\n",
    "    #t11 = (-0.0007104*(x**3)) + (0.8687*(x**2)) - (354.2*x) + (4.915*(10**4))\n",
    "    IH_T11.append(t11)\n",
    "IH_T11_df=pd.DataFrame(IH_T11)\n",
    "#IH_T11_df.to_csv(\"Tmax3.csv\")\n",
    "#IH_T11_df\n"
   ]
  },
  {
   "cell_type": "code",
   "execution_count": null,
   "metadata": {},
   "outputs": [],
   "source": [
    "plt.plot(ranget11,IH_T11)\n",
    "plt.xlim(400,520)\n",
    "plt.ylim(0,1000)"
   ]
  },
  {
   "cell_type": "code",
   "execution_count": null,
   "metadata": {},
   "outputs": [],
   "source": [
    "df = pd.read_csv(\"cartes12.csv\")\n",
    "xt12=[]\n",
    "yt12=[]\n",
    "for i in df[\"x\"]:\n",
    "    j=(0.03*i)+367.17\n",
    "    xt12.append(j)\n",
    "for a in df[\"y\"]:\n",
    "    b=(-0.278*a)+1065.2\n",
    "    yt12.append(b)\n",
    "df[\"X\"]=xt12\n",
    "df[\"Y\"]=yt12\n",
    "df.to_csv(\"Norma12.csv\")\n",
    "#df"
   ]
  },
  {
   "cell_type": "code",
   "execution_count": null,
   "metadata": {},
   "outputs": [],
   "source": [
    "ranget12=np.arange(435,460)\n",
    "IH_T12=[]\n",
    "for x in ranget12:\n",
    "    t12 = - 0.0030278945404069*(x**4) + 5.47556525717961*(x**3) - 3712.36978284364*(x**2) + 1118361.68677906*x - 126305633.383497\n",
    "    #t12 = (0.0630748587106552*(x**3)) - (84.640571429159*(x**2)) + 37823.599837788*x - 5628070.19134396\n",
    "    IH_T12.append(t12)\n",
    "IH_T12_df=pd.DataFrame(IH_T12)\n",
    "#IH_T12_df.to_csv(\"Tmax3.csv\")\n",
    "#IH_T12_df\n"
   ]
  },
  {
   "cell_type": "code",
   "execution_count": null,
   "metadata": {},
   "outputs": [],
   "source": [
    "plt.plot(ranget12,IH_T12)\n",
    "plt.xlim(400,520)\n",
    "plt.ylim(0,1000)"
   ]
  },
  {
   "cell_type": "code",
   "execution_count": null,
   "metadata": {},
   "outputs": [],
   "source": [
    "df = pd.read_csv(\"cartes13.csv\")\n",
    "xt13=[]\n",
    "yt13=[]\n",
    "for i in df[\"x\"]:\n",
    "    j=(0.03*i)+367.17\n",
    "    xt13.append(j)\n",
    "for a in df[\"y\"]:\n",
    "    b=(-0.278*a)+1065.2\n",
    "    yt13.append(b)\n",
    "df[\"X\"]=xt13\n",
    "df[\"Y\"]=yt13\n",
    "df.to_csv(\"Norma13.csv\")\n",
    "#df"
   ]
  },
  {
   "cell_type": "code",
   "execution_count": null,
   "metadata": {},
   "outputs": [],
   "source": [
    "ranget13=np.arange(460,500)\n",
    "IH_T13=[]\n",
    "for x in ranget13:\n",
    "    t13 = 0.000177523016788008*(x**4) - 0.346866714997905*(x**3) + 254.129380606625*(x**2) - 82743.3265115827*x + 10102528.8557262\n",
    "    #t12 = (0.0630748587106552*(x**3)) - (84.640571429159*(x**2)) + 37823.599837788*x - 5628070.19134396\n",
    "    IH_T13.append(t13)\n",
    "IH_T13_df=pd.DataFrame(IH_T13)\n",
    "#IH_T12_df.to_csv(\"Tmax3.csv\")\n",
    "#IH_T13_df\n"
   ]
  },
  {
   "cell_type": "code",
   "execution_count": null,
   "metadata": {},
   "outputs": [],
   "source": [
    "plt.plot(ranget13,IH_T13)\n",
    "plt.xlim(400,520)\n",
    "plt.ylim(0,1000)"
   ]
  },
  {
   "cell_type": "code",
   "execution_count": 236,
   "metadata": {},
   "outputs": [
    {
     "data": {
      "image/png": "[encoded data removed]",
      "text/plain": [
       "<Figure size 827x1169 with 1 Axes>"
      ]
     },
     "metadata": {},
     "output_type": "display_data"
    }
   ],
   "source": [
    "ranget11=np.arange(410,440)\n",
    "ranget12=np.arange(435,460)\n",
    "ranget13=np.arange(460,500)\n",
    "ranget21=np.arange(450,500)\n",
    "ranget22=np.arange(410,450)\n",
    "ranget31=np.arange(410,440)\n",
    "ranget32=np.arange(440,500)\n",
    "IH_T11=[]\n",
    "IH_T12=[]\n",
    "IH_T13=[]\n",
    "IH_T21=[]\n",
    "IH_T22=[]\n",
    "IH_T31=[]\n",
    "IH_T32=[]\n",
    "for x in ranget11:\n",
    "    t11 = (-0.0268*(x**2)) + (21.98*x) - 3526\n",
    "    IH_T11.append(t11)\n",
    "for x in ranget12:\n",
    "    t12 = - 0.0030278945404069*(x**4) + 5.47556525717961*(x**3) - 3712.36978284364*(x**2) + 1118361.68677906*x - 126305633.383497\n",
    "    IH_T12.append(t12)\n",
    "for x in ranget13:\n",
    "    t13 = 0.000177523016788008*(x**4) - 0.346866714997905*(x**3) + 254.129380606625*(x**2) - 82743.3265115827*x + 10102528.8557262\n",
    "    IH_T13.append(t13)\n",
    "for x in ranget21:\n",
    "    t21 = - (3.66713589560743*(10**-5))*(x**4) + 0.0660112038443381*(x**3) - 44.2259505852541*(x**2) + 13049.4973910725*x - 1427642.93512761\n",
    "    IH_T21.append(t21)\n",
    "for x in ranget22:\n",
    "    t22 = - 0.00779809421820324*(x**3) + 9.69734818997292*(x**2) - 4018.96003085102*x + 555785.38266497\n",
    "    IH_T22.append(t22)\n",
    "for x in ranget31:\n",
    "    t31= - ((1.86013359839361*(10**-5))*(x**4)) + 0.0319787020076214*(x**3) - 20.6489279069428*(x**2) + 5935.14482137628*x - 640425.205747287\n",
    "    IH_T31.append(t31)\n",
    "for x in ranget32:\n",
    "    t32= (1.04413640514282*(10**-6))*(x**5) - 0.00254314624149074*(x**4) + 2.47421148684642*(x**3) - 1201.86626897312*(x**2) + 291485.76357631*x - 28235317.4338638\n",
    "    IH_T32.append(t32)\n",
    "\n",
    "# Figura com tamanho A4\n",
    "\n",
    "a4_width = 8.27  # inches\n",
    "a4_height = 11.69  # inches\n",
    "\n",
    "fig,ax = plt.subplots(figsize=(a4_width, a4_height))\n",
    "\n",
    "ax11=ax.plot(ranget11,IH_T11, c=\"dimgray\")\n",
    "ax12=ax.plot(ranget12,IH_T12, c=\"dimgray\")\n",
    "ax13=ax.plot(ranget13,IH_T13, c=\"dimgray\")\n",
    "ax21=ax.plot(ranget21,IH_T21, c=\"dimgray\")\n",
    "ax22=ax.plot(ranget22,IH_T22, c=\"dimgray\")\n",
    "ax31=ax.plot(ranget31,IH_T31, c=\"dimgray\")\n",
    "ax32=ax.plot(ranget32,IH_T32, c=\"dimgray\")\n",
    "ax.set_xlim(400,520)\n",
    "ax.set_ylim(0,1000)\n",
    "#ax.set_ylabel(\"Índice de Hidrogênio (mgHC/gCOT)\", fontsize=11)\n",
    "#ax.set_xlabel(\"Índice de Oxigênio (mgHC/gCOT)\", fontsize=11)\n",
    "#ax.text(30,900, \"Tipo I\", fontsize=11)\n",
    "#ax.text(60,670, \"Tipo II\", fontsize=11)\n",
    "#ax.text(165,210, \"Tipo III\", fontsize=11)\n",
    "#ax.text(165,100, \"Tipo IV\", fontsize=11)\n",
    "plt.style.use(custom_style)"
   ]
  }
 ],
 "metadata": {
  "kernelspec": {
   "display_name": "Python 3",
   "language": "python",
   "name": "python3"
  },
  "language_info": {
   "codemirror_mode": {
    "name": "ipython",
    "version": 3
   },
   "file_extension": ".py",
   "mimetype": "text/x-python",
   "name": "python",
   "nbconvert_exporter": "python",
   "pygments_lexer": "ipython3",
   "version": "3.10.12"
  },
  "orig_nbformat": 4
 },
 "nbformat": 4,
 "nbformat_minor": 2
}
