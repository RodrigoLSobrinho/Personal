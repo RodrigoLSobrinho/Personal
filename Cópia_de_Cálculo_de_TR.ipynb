{
  "nbformat": 4,
  "nbformat_minor": 0,
  "metadata": {
    "colab": {
      "provenance": [],
      "include_colab_link": true
    },
    "kernelspec": {
      "name": "python3",
      "display_name": "Python 3"
    },
    "language_info": {
      "name": "python"
    }
  },
  "cells": [
    {
      "cell_type": "markdown",
      "metadata": {
        "id": "view-in-github",
        "colab_type": "text"
      },
      "source": [
        "<a href=\"https://colab.research.google.com/github/RodrigoLSobrinho/Personal/blob/main/C%C3%B3pia_de_C%C3%A1lculo_de_TR.ipynb\" target=\"_parent\"><img src=\"https://colab.research.google.com/assets/colab-badge.svg\" alt=\"Open In Colab\"/></a>"
      ]
    },
    {
      "cell_type": "code",
      "execution_count": null,
      "metadata": {
        "id": "95bSZ0gRvh-F"
      },
      "outputs": [],
      "source": [
        "import pandas as pd\n",
        "import numpy as np"
      ]
    },
    {
      "cell_type": "code",
      "source": [
        "df = pd.read_csv(\"Simulacao_maturacao_1.csv\")"
      ],
      "metadata": {
        "id": "ydBsZTwvwDL0"
      },
      "execution_count": null,
      "outputs": []
    },
    {
      "cell_type": "code",
      "source": [
        "def filter_tr_values(row):\n",
        "    try:\n",
        "        if row['Taxa de Transformação [v/v]'] > 1:\n",
        "            row = 1\n",
        "        if row['Taxa de Transformação [v/v]'] < 0:\n",
        "            row = 0\n",
        "        else:\n",
        "            row = row['Taxa de Transformação [v/v]']\n",
        "        return row\n",
        "    except:\n",
        "        row = 1\n",
        "        return row"
      ],
      "metadata": {
        "id": "cr3eVP7iwRcN"
      },
      "execution_count": null,
      "outputs": []
    },
    {
      "cell_type": "code",
      "source": [
        "def tr_lamina_dagua(simulations_df, mediana_minimo, lamina_dagua, variavel_hi, variavel_hia, variavel_profundidade):\n",
        "    # O cálculo de tr seguirá os seguintes passos:\n",
        "    # 1. Calcular o tr em todas as amostras do poço com a equaçao Tr = (HIa - HI)/HIa onde HIa é indice de hidrogenio ativo e o HI é o indice de hidrogenio\n",
        "    # 2. Calcular a mediana ou o mínimo de todos os valores de Tr calculados no passo 1.\n",
        "    # 3. Onde a profunddidade for igual ou menor que a laminadagua, o valor de Tr será igual a zero.\n",
        "    # 4. Ajustar uma curva logaritmica com a profundidade da lamina dagua e a profundidade final e o tr na lamina dagua (zero) e o tr na profundidade final (mediana ou mínimo), utilizando scipy curve_fit\n",
        "    import scipy\n",
        "\n",
        "    # 1. Calcular o tr em todas as amostras do poço com a equaçao Tr = (HIa - HI)/HIa onde HIa é indice de hidrogenio ativo e o HI é o indice de hidrogenio\n",
        "    simulations_df['Tr'] = (simulations_df[variavel_hia] - simulations_df[variavel_hi]) / simulations_df[variavel_hia]\n",
        "    simulations_df[\"Tr\"] = df.apply(filter_tr_values, axis=1)\n",
        "\n",
        "    # 2. Calcular a mediana ou o mínimo de todos os valores de Tr calculados no passo 1.\n",
        "    if mediana_minimo == 'mediana':\n",
        "        tr_mediana = simulations_df['Tr'].median()\n",
        "    if mediana_minimo == 'minimo':\n",
        "        tr_mediana = simulations_df['Tr'].min()\n",
        "\n",
        "    # 3. Onde a profunddidade for igual ou menor que a laminadagua, o valor de Tr será igual a zero.\n",
        "    simulations_df.loc[simulations_df[variavel_profundidade] <= lamina_dagua, 'Tr'] = 0\n",
        "\n",
        "    print(simulations_df[\"Tr\"])\n",
        "    print(tr_mediana)\n",
        "    # 4. Ajustar uma curva logaritmica com a profundidade da lamina dagua e a profundidade final e o tr na lamina dagua (zero) e o tr na profundidade final (mediana ou mínimo), utilizando scipy curve_fit\n",
        "    x = [lamina_dagua, simulations_df[variavel_profundidade].max()]\n",
        "    y = [0, tr_mediana]\n",
        "\n",
        "    log_fit = scipy.optimize.curve_fit(lambda t, a, b: a + b * np.log(t), x, y)\n",
        "    a = log_fit[0][0]\n",
        "    b = log_fit[0][1]\n",
        "\n",
        "    # 5. Calcular o tr em todas as amostras do poço com a equaçao Tr = a + b * ln(profundidade)\n",
        "    simulations_df['Tr'] = a + b * np.log(simulations_df[variavel_profundidade])\n",
        "\n",
        "    # Extra: aplicando novamente filtro para que tr seja 0 abaixo da lamina d'agua\n",
        "    simulations_df.loc[simulations_df[variavel_profundidade] <= lamina_dagua, 'Tr'] = 0\n",
        "\n",
        "    return simulations_df"
      ],
      "metadata": {
        "id": "38H0FGMowSPe"
      },
      "execution_count": null,
      "outputs": []
    },
    {
      "cell_type": "markdown",
      "source": [
        "Dizendo para a função quais sao os nomes das variáveis correspondentes no df:"
      ],
      "metadata": {
        "id": "nqwT7rLd54WK"
      }
    },
    {
      "cell_type": "code",
      "source": [
        "variavel_hia = 'IH₀ Ativo [mg HC/g COT]'\n",
        "variavel_hi = 'IH [mg HC/g COT'\n",
        "variavel_profundidade = \"Profundidade [m]\"\n",
        "mediana_minimo = \"mediana\"\n",
        "lamina_dagua = 3000"
      ],
      "metadata": {
        "id": "iFxLXqGMxP0J"
      },
      "execution_count": null,
      "outputs": []
    },
    {
      "cell_type": "code",
      "source": [
        "df = tr_lamina_dagua(df, \"minimo\", lamina_dagua, variavel_hi, variavel_hia, variavel_profundidade)"
      ],
      "metadata": {
        "colab": {
          "base_uri": "https://localhost:8080/"
        },
        "id": "8clCY8x_Z65q",
        "outputId": "d0393455-61b7-45e7-e8d9-6a7a3f2fe75b"
      },
      "execution_count": null,
      "outputs": [
        {
          "output_type": "stream",
          "name": "stdout",
          "text": [
            "0      0.000000\n",
            "1      0.000000\n",
            "2      0.000000\n",
            "3      0.000000\n",
            "4      0.000000\n",
            "         ...   \n",
            "123    0.466024\n",
            "124    0.468820\n",
            "125    0.471619\n",
            "126    0.474421\n",
            "127    0.480030\n",
            "Name: Tr, Length: 128, dtype: float64\n",
            "0.0\n"
          ]
        },
        {
          "output_type": "stream",
          "name": "stderr",
          "text": [
            "/usr/local/lib/python3.10/dist-packages/scipy/optimize/_minpack_py.py:906: OptimizeWarning:\n",
            "\n",
            "Covariance of the parameters could not be estimated\n",
            "\n"
          ]
        }
      ]
    },
    {
      "cell_type": "code",
      "source": [
        "import plotly.express as px"
      ],
      "metadata": {
        "id": "HA5GBUATaVia"
      },
      "execution_count": null,
      "outputs": []
    },
    {
      "cell_type": "code",
      "source": [
        "px.line(y='Tr', x=variavel_profundidade, data_frame=df)"
      ],
      "metadata": {
        "colab": {
          "base_uri": "https://localhost:8080/",
          "height": 542
        },
        "id": "bSOqm5Hc5ktI",
        "outputId": "4651fbac-71b1-4c2b-b543-43fc2cad644a"
      },
      "execution_count": null,
      "outputs": [
        {
          "output_type": "display_data",
          "data": {
            "text/html": [
              "<html>\n",
              "<head><meta charset=\"utf-8\" /></head>\n",
              "<body>\n",
              "    <div>            <script src=\"https://cdnjs.cloudflare.com/ajax/libs/mathjax/2.7.5/MathJax.js?config=TeX-AMS-MML_SVG\"></script><script type=\"text/javascript\">if (window.MathJax && window.MathJax.Hub && window.MathJax.Hub.Config) {window.MathJax.Hub.Config({SVG: {font: \"STIX-Web\"}});}</script>                <script type=\"text/javascript\">window.PlotlyConfig = {MathJaxConfig: 'local'};</script>\n",
              "        <script src=\"https://cdn.plot.ly/plotly-2.18.2.min.js\"></script>                <div id=\"e2270a1c-3682-4669-97ba-0465898a055a\" class=\"plotly-graph-div\" style=\"height:525px; width:100%;\"></div>            <script type=\"text/javascript\">                                    window.PLOTLYENV=window.PLOTLYENV || {};                                    if (document.getElementById(\"e2270a1c-3682-4669-97ba-0465898a055a\")) {                    Plotly.newPlot(                        \"e2270a1c-3682-4669-97ba-0465898a055a\",                        [{\"hovertemplate\":\"Profundidade [m]=%{x}<br>Tr=%{y}<extra></extra>\",\"legendgroup\":\"\",\"line\":{\"color\":\"#636efa\",\"dash\":\"solid\"},\"marker\":{\"symbol\":\"circle\"},\"mode\":\"lines\",\"name\":\"\",\"orientation\":\"v\",\"showlegend\":false,\"x\":[2400,2820,2829,2847,2856,2865,2874,2883,2892,2901,2910,2919,2928,2937,2946,2955,2964,2973,2982,2991,3000,3006,3012,3018,3024,3030,3036,3042,3054,3060,3072,3090,3228,3507,3516,3684,3759,3786,3831,3876,4002,4083,4131,4203,4245,4287,4317,4347,4407,4443,4473,4497,4521,4533,4569,4614,4641,4653,4671,4674,4689,4713,4728,4740,4752,4770,4785,4800,4827,4842,4854,4866,4878,4881,4884,4887,4890,4893,4896,4899,4902,4905,4908,4911,4914,4917,4920,4923,4926,4929,4932,4935,4938,4941,4944,4947,4950,4953,4956,4959,4962,4965,4968,4971,4974,4977,4980,4983,4986,4989,4992,4995,4998,5001,5004,5007,5010,5013,5016,5019,5022,5043,5046,5049,5052,5055,5058,5064],\"xaxis\":\"x\",\"y\":[0.0,0.0,0.0,0.0,0.0,0.0,0.0,0.0,0.0,0.0,0.0,0.0,0.0,0.0,0.0,0.0,0.0,0.0,0.0,0.0,0.0,0.0008148236574254675,0.0016280225407774296,0.0024396031168252286,0.003249571813805918,0.004057935021732018,0.004864699092693492,0.00566987034115618,0.007275459442108723,0.008075889738067499,0.009672052655778085,0.012054644271274118,0.02987293773819788,0.06368041592019136,0.06472565981968925,0.08376067305119683,0.09197979656374144,0.09489859386904076,0.09971730812206747,0.10447974961031914,0.1175261038674198,0.125697891811126,0.13046427599953558,0.1375110017282375,0.14156605464633865,0.1455811837511054,0.14842512208836123,0.1512493654038125,0.15683984506321647,0.16015771370825282,0.16290213257715935,0.16508444737601824,0.16725514633918293,0.16833617839662507,0.17156218681945967,0.17555913914854848,0.177938641486711,0.17899175790116217,0.18056635099575535,0.18082819312666,0.18213488794810173,0.18421693001912542,0.18551282912313205,0.18654659166620702,0.18757774039475406,0.18911959139909884,0.1904000292009549,0.19167645936620525,0.19396401409816866,0.1952293551842308,0.19623880892951373,0.19724577019387635,0.19825025125557083,0.19850098541955408,0.19875156552259776,0.19900199175390743,0.1992522643023409,0.19950238335640869,0.1997523491042732,0.20000216173375263,0.20025182143232012,0.20050132838710377,0.20075068278488928,0.2009998848121204,0.20124893465489757,0.201497832498982,0.20174657852979383,0.20199517293241565,0.20224361589159123,0.20249190759172508,0.20274004821688818,0.2029880379508131,0.20323587697689938,0.20348356547821123,0.20373110363747893,0.2039784916371028,0.20422572965914743,0.20447281788535143,0.20471975649711815,0.20496654567552586,0.20521318560132196,0.20545967645492658,0.20570601841643255,0.20595221166560806,0.2061982563818936,0.20644415274440675,0.2066899009319414,0.2069355011229681,0.20718095349563326,0.20742625822776573,0.2076714154968693,0.20791642548013156,0.20816128835441905,0.20840600429627898,0.2086505734819437,0.2088949960873263,0.20913927228802498,0.20938340225932217,0.20962738617618504,0.20987122421326898,0.21011491654491454,0.21181669769338285,0.21205923062046805,0.21230161939721537,0.21254386419487759,0.21278596518440018,0.213027922536424,0.2135114070090256],\"yaxis\":\"y\",\"type\":\"scatter\"}],                        {\"template\":{\"data\":{\"histogram2dcontour\":[{\"type\":\"histogram2dcontour\",\"colorbar\":{\"outlinewidth\":0,\"ticks\":\"\"},\"colorscale\":[[0.0,\"#0d0887\"],[0.1111111111111111,\"#46039f\"],[0.2222222222222222,\"#7201a8\"],[0.3333333333333333,\"#9c179e\"],[0.4444444444444444,\"#bd3786\"],[0.5555555555555556,\"#d8576b\"],[0.6666666666666666,\"#ed7953\"],[0.7777777777777778,\"#fb9f3a\"],[0.8888888888888888,\"#fdca26\"],[1.0,\"#f0f921\"]]}],\"choropleth\":[{\"type\":\"choropleth\",\"colorbar\":{\"outlinewidth\":0,\"ticks\":\"\"}}],\"histogram2d\":[{\"type\":\"histogram2d\",\"colorbar\":{\"outlinewidth\":0,\"ticks\":\"\"},\"colorscale\":[[0.0,\"#0d0887\"],[0.1111111111111111,\"#46039f\"],[0.2222222222222222,\"#7201a8\"],[0.3333333333333333,\"#9c179e\"],[0.4444444444444444,\"#bd3786\"],[0.5555555555555556,\"#d8576b\"],[0.6666666666666666,\"#ed7953\"],[0.7777777777777778,\"#fb9f3a\"],[0.8888888888888888,\"#fdca26\"],[1.0,\"#f0f921\"]]}],\"heatmap\":[{\"type\":\"heatmap\",\"colorbar\":{\"outlinewidth\":0,\"ticks\":\"\"},\"colorscale\":[[0.0,\"#0d0887\"],[0.1111111111111111,\"#46039f\"],[0.2222222222222222,\"#7201a8\"],[0.3333333333333333,\"#9c179e\"],[0.4444444444444444,\"#bd3786\"],[0.5555555555555556,\"#d8576b\"],[0.6666666666666666,\"#ed7953\"],[0.7777777777777778,\"#fb9f3a\"],[0.8888888888888888,\"#fdca26\"],[1.0,\"#f0f921\"]]}],\"heatmapgl\":[{\"type\":\"heatmapgl\",\"colorbar\":{\"outlinewidth\":0,\"ticks\":\"\"},\"colorscale\":[[0.0,\"#0d0887\"],[0.1111111111111111,\"#46039f\"],[0.2222222222222222,\"#7201a8\"],[0.3333333333333333,\"#9c179e\"],[0.4444444444444444,\"#bd3786\"],[0.5555555555555556,\"#d8576b\"],[0.6666666666666666,\"#ed7953\"],[0.7777777777777778,\"#fb9f3a\"],[0.8888888888888888,\"#fdca26\"],[1.0,\"#f0f921\"]]}],\"contourcarpet\":[{\"type\":\"contourcarpet\",\"colorbar\":{\"outlinewidth\":0,\"ticks\":\"\"}}],\"contour\":[{\"type\":\"contour\",\"colorbar\":{\"outlinewidth\":0,\"ticks\":\"\"},\"colorscale\":[[0.0,\"#0d0887\"],[0.1111111111111111,\"#46039f\"],[0.2222222222222222,\"#7201a8\"],[0.3333333333333333,\"#9c179e\"],[0.4444444444444444,\"#bd3786\"],[0.5555555555555556,\"#d8576b\"],[0.6666666666666666,\"#ed7953\"],[0.7777777777777778,\"#fb9f3a\"],[0.8888888888888888,\"#fdca26\"],[1.0,\"#f0f921\"]]}],\"surface\":[{\"type\":\"surface\",\"colorbar\":{\"outlinewidth\":0,\"ticks\":\"\"},\"colorscale\":[[0.0,\"#0d0887\"],[0.1111111111111111,\"#46039f\"],[0.2222222222222222,\"#7201a8\"],[0.3333333333333333,\"#9c179e\"],[0.4444444444444444,\"#bd3786\"],[0.5555555555555556,\"#d8576b\"],[0.6666666666666666,\"#ed7953\"],[0.7777777777777778,\"#fb9f3a\"],[0.8888888888888888,\"#fdca26\"],[1.0,\"#f0f921\"]]}],\"mesh3d\":[{\"type\":\"mesh3d\",\"colorbar\":{\"outlinewidth\":0,\"ticks\":\"\"}}],\"scatter\":[{\"fillpattern\":{\"fillmode\":\"overlay\",\"size\":10,\"solidity\":0.2},\"type\":\"scatter\"}],\"parcoords\":[{\"type\":\"parcoords\",\"line\":{\"colorbar\":{\"outlinewidth\":0,\"ticks\":\"\"}}}],\"scatterpolargl\":[{\"type\":\"scatterpolargl\",\"marker\":{\"colorbar\":{\"outlinewidth\":0,\"ticks\":\"\"}}}],\"bar\":[{\"error_x\":{\"color\":\"#2a3f5f\"},\"error_y\":{\"color\":\"#2a3f5f\"},\"marker\":{\"line\":{\"color\":\"#E5ECF6\",\"width\":0.5},\"pattern\":{\"fillmode\":\"overlay\",\"size\":10,\"solidity\":0.2}},\"type\":\"bar\"}],\"scattergeo\":[{\"type\":\"scattergeo\",\"marker\":{\"colorbar\":{\"outlinewidth\":0,\"ticks\":\"\"}}}],\"scatterpolar\":[{\"type\":\"scatterpolar\",\"marker\":{\"colorbar\":{\"outlinewidth\":0,\"ticks\":\"\"}}}],\"histogram\":[{\"marker\":{\"pattern\":{\"fillmode\":\"overlay\",\"size\":10,\"solidity\":0.2}},\"type\":\"histogram\"}],\"scattergl\":[{\"type\":\"scattergl\",\"marker\":{\"colorbar\":{\"outlinewidth\":0,\"ticks\":\"\"}}}],\"scatter3d\":[{\"type\":\"scatter3d\",\"line\":{\"colorbar\":{\"outlinewidth\":0,\"ticks\":\"\"}},\"marker\":{\"colorbar\":{\"outlinewidth\":0,\"ticks\":\"\"}}}],\"scattermapbox\":[{\"type\":\"scattermapbox\",\"marker\":{\"colorbar\":{\"outlinewidth\":0,\"ticks\":\"\"}}}],\"scatterternary\":[{\"type\":\"scatterternary\",\"marker\":{\"colorbar\":{\"outlinewidth\":0,\"ticks\":\"\"}}}],\"scattercarpet\":[{\"type\":\"scattercarpet\",\"marker\":{\"colorbar\":{\"outlinewidth\":0,\"ticks\":\"\"}}}],\"carpet\":[{\"aaxis\":{\"endlinecolor\":\"#2a3f5f\",\"gridcolor\":\"white\",\"linecolor\":\"white\",\"minorgridcolor\":\"white\",\"startlinecolor\":\"#2a3f5f\"},\"baxis\":{\"endlinecolor\":\"#2a3f5f\",\"gridcolor\":\"white\",\"linecolor\":\"white\",\"minorgridcolor\":\"white\",\"startlinecolor\":\"#2a3f5f\"},\"type\":\"carpet\"}],\"table\":[{\"cells\":{\"fill\":{\"color\":\"#EBF0F8\"},\"line\":{\"color\":\"white\"}},\"header\":{\"fill\":{\"color\":\"#C8D4E3\"},\"line\":{\"color\":\"white\"}},\"type\":\"table\"}],\"barpolar\":[{\"marker\":{\"line\":{\"color\":\"#E5ECF6\",\"width\":0.5},\"pattern\":{\"fillmode\":\"overlay\",\"size\":10,\"solidity\":0.2}},\"type\":\"barpolar\"}],\"pie\":[{\"automargin\":true,\"type\":\"pie\"}]},\"layout\":{\"autotypenumbers\":\"strict\",\"colorway\":[\"#636efa\",\"#EF553B\",\"#00cc96\",\"#ab63fa\",\"#FFA15A\",\"#19d3f3\",\"#FF6692\",\"#B6E880\",\"#FF97FF\",\"#FECB52\"],\"font\":{\"color\":\"#2a3f5f\"},\"hovermode\":\"closest\",\"hoverlabel\":{\"align\":\"left\"},\"paper_bgcolor\":\"white\",\"plot_bgcolor\":\"#E5ECF6\",\"polar\":{\"bgcolor\":\"#E5ECF6\",\"angularaxis\":{\"gridcolor\":\"white\",\"linecolor\":\"white\",\"ticks\":\"\"},\"radialaxis\":{\"gridcolor\":\"white\",\"linecolor\":\"white\",\"ticks\":\"\"}},\"ternary\":{\"bgcolor\":\"#E5ECF6\",\"aaxis\":{\"gridcolor\":\"white\",\"linecolor\":\"white\",\"ticks\":\"\"},\"baxis\":{\"gridcolor\":\"white\",\"linecolor\":\"white\",\"ticks\":\"\"},\"caxis\":{\"gridcolor\":\"white\",\"linecolor\":\"white\",\"ticks\":\"\"}},\"coloraxis\":{\"colorbar\":{\"outlinewidth\":0,\"ticks\":\"\"}},\"colorscale\":{\"sequential\":[[0.0,\"#0d0887\"],[0.1111111111111111,\"#46039f\"],[0.2222222222222222,\"#7201a8\"],[0.3333333333333333,\"#9c179e\"],[0.4444444444444444,\"#bd3786\"],[0.5555555555555556,\"#d8576b\"],[0.6666666666666666,\"#ed7953\"],[0.7777777777777778,\"#fb9f3a\"],[0.8888888888888888,\"#fdca26\"],[1.0,\"#f0f921\"]],\"sequentialminus\":[[0.0,\"#0d0887\"],[0.1111111111111111,\"#46039f\"],[0.2222222222222222,\"#7201a8\"],[0.3333333333333333,\"#9c179e\"],[0.4444444444444444,\"#bd3786\"],[0.5555555555555556,\"#d8576b\"],[0.6666666666666666,\"#ed7953\"],[0.7777777777777778,\"#fb9f3a\"],[0.8888888888888888,\"#fdca26\"],[1.0,\"#f0f921\"]],\"diverging\":[[0,\"#8e0152\"],[0.1,\"#c51b7d\"],[0.2,\"#de77ae\"],[0.3,\"#f1b6da\"],[0.4,\"#fde0ef\"],[0.5,\"#f7f7f7\"],[0.6,\"#e6f5d0\"],[0.7,\"#b8e186\"],[0.8,\"#7fbc41\"],[0.9,\"#4d9221\"],[1,\"#276419\"]]},\"xaxis\":{\"gridcolor\":\"white\",\"linecolor\":\"white\",\"ticks\":\"\",\"title\":{\"standoff\":15},\"zerolinecolor\":\"white\",\"automargin\":true,\"zerolinewidth\":2},\"yaxis\":{\"gridcolor\":\"white\",\"linecolor\":\"white\",\"ticks\":\"\",\"title\":{\"standoff\":15},\"zerolinecolor\":\"white\",\"automargin\":true,\"zerolinewidth\":2},\"scene\":{\"xaxis\":{\"backgroundcolor\":\"#E5ECF6\",\"gridcolor\":\"white\",\"linecolor\":\"white\",\"showbackground\":true,\"ticks\":\"\",\"zerolinecolor\":\"white\",\"gridwidth\":2},\"yaxis\":{\"backgroundcolor\":\"#E5ECF6\",\"gridcolor\":\"white\",\"linecolor\":\"white\",\"showbackground\":true,\"ticks\":\"\",\"zerolinecolor\":\"white\",\"gridwidth\":2},\"zaxis\":{\"backgroundcolor\":\"#E5ECF6\",\"gridcolor\":\"white\",\"linecolor\":\"white\",\"showbackground\":true,\"ticks\":\"\",\"zerolinecolor\":\"white\",\"gridwidth\":2}},\"shapedefaults\":{\"line\":{\"color\":\"#2a3f5f\"}},\"annotationdefaults\":{\"arrowcolor\":\"#2a3f5f\",\"arrowhead\":0,\"arrowwidth\":1},\"geo\":{\"bgcolor\":\"white\",\"landcolor\":\"#E5ECF6\",\"subunitcolor\":\"white\",\"showland\":true,\"showlakes\":true,\"lakecolor\":\"white\"},\"title\":{\"x\":0.05},\"mapbox\":{\"style\":\"light\"}}},\"xaxis\":{\"anchor\":\"y\",\"domain\":[0.0,1.0],\"title\":{\"text\":\"Profundidade [m]\"}},\"yaxis\":{\"anchor\":\"x\",\"domain\":[0.0,1.0],\"title\":{\"text\":\"Tr\"}},\"legend\":{\"tracegroupgap\":0},\"margin\":{\"t\":60}},                        {\"responsive\": true}                    ).then(function(){\n",
              "                            \n",
              "var gd = document.getElementById('e2270a1c-3682-4669-97ba-0465898a055a');\n",
              "var x = new MutationObserver(function (mutations, observer) {{\n",
              "        var display = window.getComputedStyle(gd).display;\n",
              "        if (!display || display === 'none') {{\n",
              "            console.log([gd, 'removed!']);\n",
              "            Plotly.purge(gd);\n",
              "            observer.disconnect();\n",
              "        }}\n",
              "}});\n",
              "\n",
              "// Listen for the removal of the full notebook cells\n",
              "var notebookContainer = gd.closest('#notebook-container');\n",
              "if (notebookContainer) {{\n",
              "    x.observe(notebookContainer, {childList: true});\n",
              "}}\n",
              "\n",
              "// Listen for the clearing of the current output cell\n",
              "var outputEl = gd.closest('.output');\n",
              "if (outputEl) {{\n",
              "    x.observe(outputEl, {childList: true});\n",
              "}}\n",
              "\n",
              "                        })                };                            </script>        </div>\n",
              "</body>\n",
              "</html>"
            ]
          },
          "metadata": {}
        }
      ]
    },
    {
      "cell_type": "code",
      "source": [],
      "metadata": {
        "id": "4BMLR35NapY7"
      },
      "execution_count": null,
      "outputs": []
    }
  ]
}