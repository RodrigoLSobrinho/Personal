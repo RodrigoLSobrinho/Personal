{
 "cells": [
  {
   "cell_type": "code",
   "execution_count": 2,
   "id": "57b8f7a6",
   "metadata": {},
   "outputs": [],
   "source": [
    "import pandas as pd"
   ]
  },
  {
   "cell_type": "code",
   "execution_count": 3,
   "id": "cfe28783",
   "metadata": {},
   "outputs": [],
   "source": [
    "df = pd.read_csv(\"Poços_BR.csv\", thousands=\",\")"
   ]
  },
  {
   "cell_type": "code",
   "execution_count": null,
   "id": "4265868c",
   "metadata": {
    "scrolled": false
   },
   "outputs": [],
   "source": [
    "df"
   ]
  },
  {
   "cell_type": "code",
   "execution_count": null,
   "id": "6ee00196",
   "metadata": {
    "scrolled": true
   },
   "outputs": [],
   "source": [
    "df1 = df.loc[\"Sergipe\"]"
   ]
  },
  {
   "cell_type": "code",
   "execution_count": null,
   "id": "7cbe1c36",
   "metadata": {},
   "outputs": [],
   "source": [
    "df1.to_csv(\"Sergipe.csv\", index=False)"
   ]
  },
  {
   "cell_type": "code",
   "execution_count": null,
   "id": "e2dd3c51",
   "metadata": {},
   "outputs": [],
   "source": [
    "df.info()"
   ]
  },
  {
   "cell_type": "code",
   "execution_count": null,
   "id": "41ff8aa9",
   "metadata": {},
   "outputs": [],
   "source": [
    "df.head(10)"
   ]
  },
  {
   "cell_type": "code",
   "execution_count": null,
   "id": "84ad565a",
   "metadata": {
    "scrolled": true
   },
   "outputs": [],
   "source": [
    "df.tail()"
   ]
  },
  {
   "cell_type": "code",
   "execution_count": null,
   "id": "6eb5310c",
   "metadata": {},
   "outputs": [],
   "source": [
    "df.describe()"
   ]
  },
  {
   "cell_type": "code",
   "execution_count": 6,
   "id": "6fd9b53c",
   "metadata": {},
   "outputs": [
    {
     "data": {
      "text/plain": [
       "0        1.60\n",
       "1        1.49\n",
       "2        1.37\n",
       "3        1.13\n",
       "4        1.62\n",
       "         ... \n",
       "96426    0.53\n",
       "96427    0.56\n",
       "96428    0.57\n",
       "96429    0.64\n",
       "96430    0.74\n",
       "Name: COT, Length: 96431, dtype: float64"
      ]
     },
     "execution_count": 6,
     "metadata": {},
     "output_type": "execute_result"
    }
   ],
   "source": [
    "df.COT"
   ]
  },
  {
   "cell_type": "code",
   "execution_count": 4,
   "id": "a249518e",
   "metadata": {},
   "outputs": [
    {
     "data": {
      "text/html": [
       "<div>\n",
       "<style scoped>\n",
       "    .dataframe tbody tr th:only-of-type {\n",
       "        vertical-align: middle;\n",
       "    }\n",
       "\n",
       "    .dataframe tbody tr th {\n",
       "        vertical-align: top;\n",
       "    }\n",
       "\n",
       "    .dataframe thead th {\n",
       "        text-align: right;\n",
       "    }\n",
       "</style>\n",
       "<table border=\"1\" class=\"dataframe\">\n",
       "  <thead>\n",
       "    <tr style=\"text-align: right;\">\n",
       "      <th></th>\n",
       "      <th>Poço</th>\n",
       "      <th>COT</th>\n",
       "    </tr>\n",
       "  </thead>\n",
       "  <tbody>\n",
       "    <tr>\n",
       "      <th>0</th>\n",
       "      <td>7-PIR-184D-AL</td>\n",
       "      <td>1.60</td>\n",
       "    </tr>\n",
       "    <tr>\n",
       "      <th>1</th>\n",
       "      <td>7-PIR-184D-AL</td>\n",
       "      <td>1.49</td>\n",
       "    </tr>\n",
       "    <tr>\n",
       "      <th>2</th>\n",
       "      <td>7-PIR-184D-AL</td>\n",
       "      <td>1.37</td>\n",
       "    </tr>\n",
       "    <tr>\n",
       "      <th>3</th>\n",
       "      <td>7-PIR-184D-AL</td>\n",
       "      <td>1.13</td>\n",
       "    </tr>\n",
       "    <tr>\n",
       "      <th>4</th>\n",
       "      <td>7-PIR-184D-AL</td>\n",
       "      <td>1.62</td>\n",
       "    </tr>\n",
       "    <tr>\n",
       "      <th>...</th>\n",
       "      <td>...</td>\n",
       "      <td>...</td>\n",
       "    </tr>\n",
       "    <tr>\n",
       "      <th>96426</th>\n",
       "      <td>7-GA-57D-SES</td>\n",
       "      <td>0.53</td>\n",
       "    </tr>\n",
       "    <tr>\n",
       "      <th>96427</th>\n",
       "      <td>7-GA-57D-SES</td>\n",
       "      <td>0.56</td>\n",
       "    </tr>\n",
       "    <tr>\n",
       "      <th>96428</th>\n",
       "      <td>7-GA-57D-SES</td>\n",
       "      <td>0.57</td>\n",
       "    </tr>\n",
       "    <tr>\n",
       "      <th>96429</th>\n",
       "      <td>7-GA-57D-SES</td>\n",
       "      <td>0.64</td>\n",
       "    </tr>\n",
       "    <tr>\n",
       "      <th>96430</th>\n",
       "      <td>7-GA-57D-SES</td>\n",
       "      <td>0.74</td>\n",
       "    </tr>\n",
       "  </tbody>\n",
       "</table>\n",
       "<p>96431 rows × 2 columns</p>\n",
       "</div>"
      ],
      "text/plain": [
       "                       Poço   COT\n",
       "0      7-PIR-184D-AL         1.60\n",
       "1      7-PIR-184D-AL         1.49\n",
       "2      7-PIR-184D-AL         1.37\n",
       "3      7-PIR-184D-AL         1.13\n",
       "4      7-PIR-184D-AL         1.62\n",
       "...                     ...   ...\n",
       "96426  7-GA-57D-SES          0.53\n",
       "96427  7-GA-57D-SES          0.56\n",
       "96428  7-GA-57D-SES          0.57\n",
       "96429  7-GA-57D-SES          0.64\n",
       "96430  7-GA-57D-SES          0.74\n",
       "\n",
       "[96431 rows x 2 columns]"
      ]
     },
     "execution_count": 4,
     "metadata": {},
     "output_type": "execute_result"
    }
   ],
   "source": [
    "df[[\"Poço\",\"COT\"]]"
   ]
  },
  {
   "cell_type": "code",
   "execution_count": null,
   "id": "562b2130",
   "metadata": {},
   "outputs": [],
   "source": [
    "df.iloc[4756]"
   ]
  },
  {
   "cell_type": "code",
   "execution_count": null,
   "id": "978d1e45",
   "metadata": {},
   "outputs": [],
   "source": [
    "df.iloc[3546:4563]"
   ]
  },
  {
   "cell_type": "code",
   "execution_count": null,
   "id": "a4467a85",
   "metadata": {
    "scrolled": true
   },
   "outputs": [],
   "source": [
    "df.loc[3561:3567, \"Poço\":\"Tmax\"]"
   ]
  },
  {
   "cell_type": "code",
   "execution_count": null,
   "id": "fc514488",
   "metadata": {
    "scrolled": true
   },
   "outputs": [],
   "source": [
    "df[\"Poço\"].value_counts()"
   ]
  },
  {
   "cell_type": "code",
   "execution_count": null,
   "id": "2169411f",
   "metadata": {},
   "outputs": [],
   "source": [
    "df.set_index(\"Poço\", inplace=True)"
   ]
  },
  {
   "cell_type": "code",
   "execution_count": 35,
   "id": "e0f5a2d5",
   "metadata": {
    "scrolled": true
   },
   "outputs": [
    {
     "data": {
      "text/html": [
       "<div>\n",
       "<style scoped>\n",
       "    .dataframe tbody tr th:only-of-type {\n",
       "        vertical-align: middle;\n",
       "    }\n",
       "\n",
       "    .dataframe tbody tr th {\n",
       "        vertical-align: top;\n",
       "    }\n",
       "\n",
       "    .dataframe thead th {\n",
       "        text-align: right;\n",
       "    }\n",
       "</style>\n",
       "<table border=\"1\" class=\"dataframe\">\n",
       "  <thead>\n",
       "    <tr style=\"text-align: right;\">\n",
       "      <th></th>\n",
       "      <th>Poço</th>\n",
       "      <th>COT</th>\n",
       "      <th>S1</th>\n",
       "      <th>S2</th>\n",
       "      <th>S3</th>\n",
       "      <th>Tmax</th>\n",
       "      <th>HI</th>\n",
       "      <th>OI</th>\n",
       "    </tr>\n",
       "    <tr>\n",
       "      <th>Bacia</th>\n",
       "      <th></th>\n",
       "      <th></th>\n",
       "      <th></th>\n",
       "      <th></th>\n",
       "      <th></th>\n",
       "      <th></th>\n",
       "      <th></th>\n",
       "      <th></th>\n",
       "    </tr>\n",
       "  </thead>\n",
       "  <tbody>\n",
       "    <tr>\n",
       "      <th>Alagoas</th>\n",
       "      <td>7-PIR-184D-AL</td>\n",
       "      <td>1.60</td>\n",
       "      <td>0.82</td>\n",
       "      <td>8.17</td>\n",
       "      <td>1.26</td>\n",
       "      <td>436.0</td>\n",
       "      <td>510.62</td>\n",
       "      <td>78.75</td>\n",
       "    </tr>\n",
       "    <tr>\n",
       "      <th>Alagoas</th>\n",
       "      <td>7-PIR-184D-AL</td>\n",
       "      <td>1.49</td>\n",
       "      <td>0.69</td>\n",
       "      <td>6.79</td>\n",
       "      <td>1.22</td>\n",
       "      <td>432.0</td>\n",
       "      <td>455.70</td>\n",
       "      <td>81.88</td>\n",
       "    </tr>\n",
       "    <tr>\n",
       "      <th>Alagoas</th>\n",
       "      <td>7-PIR-184D-AL</td>\n",
       "      <td>1.37</td>\n",
       "      <td>0.70</td>\n",
       "      <td>8.02</td>\n",
       "      <td>1.26</td>\n",
       "      <td>435.0</td>\n",
       "      <td>585.40</td>\n",
       "      <td>91.97</td>\n",
       "    </tr>\n",
       "    <tr>\n",
       "      <th>Alagoas</th>\n",
       "      <td>7-PIR-184D-AL</td>\n",
       "      <td>1.13</td>\n",
       "      <td>0.68</td>\n",
       "      <td>6.51</td>\n",
       "      <td>1.30</td>\n",
       "      <td>436.0</td>\n",
       "      <td>576.11</td>\n",
       "      <td>115.04</td>\n",
       "    </tr>\n",
       "    <tr>\n",
       "      <th>Alagoas</th>\n",
       "      <td>7-PIR-184D-AL</td>\n",
       "      <td>1.62</td>\n",
       "      <td>0.87</td>\n",
       "      <td>9.34</td>\n",
       "      <td>1.45</td>\n",
       "      <td>432.0</td>\n",
       "      <td>576.54</td>\n",
       "      <td>89.51</td>\n",
       "    </tr>\n",
       "    <tr>\n",
       "      <th>...</th>\n",
       "      <td>...</td>\n",
       "      <td>...</td>\n",
       "      <td>...</td>\n",
       "      <td>...</td>\n",
       "      <td>...</td>\n",
       "      <td>...</td>\n",
       "      <td>...</td>\n",
       "      <td>...</td>\n",
       "    </tr>\n",
       "    <tr>\n",
       "      <th>Alagoas</th>\n",
       "      <td>1-ALS-32-ALS</td>\n",
       "      <td>7.30</td>\n",
       "      <td>1.16</td>\n",
       "      <td>3.70</td>\n",
       "      <td>0.87</td>\n",
       "      <td>526.0</td>\n",
       "      <td>50.68</td>\n",
       "      <td>11.92</td>\n",
       "    </tr>\n",
       "    <tr>\n",
       "      <th>Alagoas</th>\n",
       "      <td>1-ALS-32-ALS</td>\n",
       "      <td>1.88</td>\n",
       "      <td>1.65</td>\n",
       "      <td>1.07</td>\n",
       "      <td>0.74</td>\n",
       "      <td>355.0</td>\n",
       "      <td>56.91</td>\n",
       "      <td>39.36</td>\n",
       "    </tr>\n",
       "    <tr>\n",
       "      <th>Alagoas</th>\n",
       "      <td>1-ALS-32-ALS</td>\n",
       "      <td>1.90</td>\n",
       "      <td>NaN</td>\n",
       "      <td>1.30</td>\n",
       "      <td>0.70</td>\n",
       "      <td>440.0</td>\n",
       "      <td>68.42</td>\n",
       "      <td>36.84</td>\n",
       "    </tr>\n",
       "    <tr>\n",
       "      <th>Alagoas</th>\n",
       "      <td>1-ALS-32-ALS</td>\n",
       "      <td>1.34</td>\n",
       "      <td>NaN</td>\n",
       "      <td>0.57</td>\n",
       "      <td>0.81</td>\n",
       "      <td>440.0</td>\n",
       "      <td>42.54</td>\n",
       "      <td>60.45</td>\n",
       "    </tr>\n",
       "    <tr>\n",
       "      <th>Alagoas</th>\n",
       "      <td>1-ALS-32-ALS</td>\n",
       "      <td>2.03</td>\n",
       "      <td>0.01</td>\n",
       "      <td>3.75</td>\n",
       "      <td>1.62</td>\n",
       "      <td>435.0</td>\n",
       "      <td>184.73</td>\n",
       "      <td>79.80</td>\n",
       "    </tr>\n",
       "  </tbody>\n",
       "</table>\n",
       "<p>19188 rows × 8 columns</p>\n",
       "</div>"
      ],
      "text/plain": [
       "                         Poço   COT    S1    S2    S3   Tmax      HI      OI\n",
       "Bacia                                                                       \n",
       "Alagoas  7-PIR-184D-AL         1.60  0.82  8.17  1.26  436.0  510.62   78.75\n",
       "Alagoas  7-PIR-184D-AL         1.49  0.69  6.79  1.22  432.0  455.70   81.88\n",
       "Alagoas  7-PIR-184D-AL         1.37  0.70  8.02  1.26  435.0  585.40   91.97\n",
       "Alagoas  7-PIR-184D-AL         1.13  0.68  6.51  1.30  436.0  576.11  115.04\n",
       "Alagoas  7-PIR-184D-AL         1.62  0.87  9.34  1.45  432.0  576.54   89.51\n",
       "...                       ...   ...   ...   ...   ...    ...     ...     ...\n",
       "Alagoas  1-ALS-32-ALS          7.30  1.16  3.70  0.87  526.0   50.68   11.92\n",
       "Alagoas  1-ALS-32-ALS          1.88  1.65  1.07  0.74  355.0   56.91   39.36\n",
       "Alagoas  1-ALS-32-ALS          1.90   NaN  1.30  0.70  440.0   68.42   36.84\n",
       "Alagoas  1-ALS-32-ALS          1.34   NaN  0.57  0.81  440.0   42.54   60.45\n",
       "Alagoas  1-ALS-32-ALS          2.03  0.01  3.75  1.62  435.0  184.73   79.80\n",
       "\n",
       "[19188 rows x 8 columns]"
      ]
     },
     "execution_count": 35,
     "metadata": {},
     "output_type": "execute_result"
    }
   ],
   "source": [
    "grb = pd.read_csv(\"Poços_BR.csv\", thousands=\",\", index_col=\"Bacia\")\n",
    "grbcsv = grb.loc['Alagoas']\n",
    "grbcsv.to_csv(\"Alagoas.csv\")\n",
    "grbcsv"
   ]
  },
  {
   "cell_type": "code",
   "execution_count": 36,
   "id": "d4e1b9b6",
   "metadata": {},
   "outputs": [
    {
     "data": {
      "text/html": [
       "<div>\n",
       "<style scoped>\n",
       "    .dataframe tbody tr th:only-of-type {\n",
       "        vertical-align: middle;\n",
       "    }\n",
       "\n",
       "    .dataframe tbody tr th {\n",
       "        vertical-align: top;\n",
       "    }\n",
       "\n",
       "    .dataframe thead th {\n",
       "        text-align: right;\n",
       "    }\n",
       "</style>\n",
       "<table border=\"1\" class=\"dataframe\">\n",
       "  <thead>\n",
       "    <tr style=\"text-align: right;\">\n",
       "      <th></th>\n",
       "      <th>Bacia</th>\n",
       "      <th>COT</th>\n",
       "      <th>S1</th>\n",
       "      <th>S2</th>\n",
       "      <th>S3</th>\n",
       "      <th>Tmax</th>\n",
       "      <th>HI</th>\n",
       "      <th>OI</th>\n",
       "    </tr>\n",
       "    <tr>\n",
       "      <th>Poço</th>\n",
       "      <th></th>\n",
       "      <th></th>\n",
       "      <th></th>\n",
       "      <th></th>\n",
       "      <th></th>\n",
       "      <th></th>\n",
       "      <th></th>\n",
       "      <th></th>\n",
       "    </tr>\n",
       "  </thead>\n",
       "  <tbody>\n",
       "    <tr>\n",
       "      <th>1-RV-1D-AL</th>\n",
       "      <td>Alagoas</td>\n",
       "      <td>5.21</td>\n",
       "      <td>0.47</td>\n",
       "      <td>26.23</td>\n",
       "      <td>1.45</td>\n",
       "      <td>420.0</td>\n",
       "      <td>503.45</td>\n",
       "      <td>27.83</td>\n",
       "    </tr>\n",
       "    <tr>\n",
       "      <th>1-RV-1D-AL</th>\n",
       "      <td>Alagoas</td>\n",
       "      <td>3.70</td>\n",
       "      <td>0.17</td>\n",
       "      <td>9.98</td>\n",
       "      <td>1.23</td>\n",
       "      <td>424.0</td>\n",
       "      <td>269.73</td>\n",
       "      <td>33.24</td>\n",
       "    </tr>\n",
       "    <tr>\n",
       "      <th>1-RV-1D-AL</th>\n",
       "      <td>Alagoas</td>\n",
       "      <td>2.47</td>\n",
       "      <td>0.17</td>\n",
       "      <td>6.01</td>\n",
       "      <td>0.84</td>\n",
       "      <td>424.0</td>\n",
       "      <td>243.32</td>\n",
       "      <td>34.01</td>\n",
       "    </tr>\n",
       "    <tr>\n",
       "      <th>1-RV-1D-AL</th>\n",
       "      <td>Alagoas</td>\n",
       "      <td>4.48</td>\n",
       "      <td>0.41</td>\n",
       "      <td>19.94</td>\n",
       "      <td>1.19</td>\n",
       "      <td>423.0</td>\n",
       "      <td>445.09</td>\n",
       "      <td>26.56</td>\n",
       "    </tr>\n",
       "    <tr>\n",
       "      <th>1-RV-1D-AL</th>\n",
       "      <td>Alagoas</td>\n",
       "      <td>4.70</td>\n",
       "      <td>0.23</td>\n",
       "      <td>13.68</td>\n",
       "      <td>1.41</td>\n",
       "      <td>427.0</td>\n",
       "      <td>291.06</td>\n",
       "      <td>30.00</td>\n",
       "    </tr>\n",
       "    <tr>\n",
       "      <th>...</th>\n",
       "      <td>...</td>\n",
       "      <td>...</td>\n",
       "      <td>...</td>\n",
       "      <td>...</td>\n",
       "      <td>...</td>\n",
       "      <td>...</td>\n",
       "      <td>...</td>\n",
       "      <td>...</td>\n",
       "    </tr>\n",
       "    <tr>\n",
       "      <th>1-RV-1D-AL</th>\n",
       "      <td>Alagoas</td>\n",
       "      <td>0.67</td>\n",
       "      <td>NaN</td>\n",
       "      <td>NaN</td>\n",
       "      <td>NaN</td>\n",
       "      <td>NaN</td>\n",
       "      <td>NaN</td>\n",
       "      <td>NaN</td>\n",
       "    </tr>\n",
       "    <tr>\n",
       "      <th>1-RV-1D-AL</th>\n",
       "      <td>Alagoas</td>\n",
       "      <td>0.64</td>\n",
       "      <td>NaN</td>\n",
       "      <td>NaN</td>\n",
       "      <td>NaN</td>\n",
       "      <td>NaN</td>\n",
       "      <td>NaN</td>\n",
       "      <td>NaN</td>\n",
       "    </tr>\n",
       "    <tr>\n",
       "      <th>1-RV-1D-AL</th>\n",
       "      <td>Alagoas</td>\n",
       "      <td>0.56</td>\n",
       "      <td>NaN</td>\n",
       "      <td>NaN</td>\n",
       "      <td>NaN</td>\n",
       "      <td>NaN</td>\n",
       "      <td>NaN</td>\n",
       "      <td>NaN</td>\n",
       "    </tr>\n",
       "    <tr>\n",
       "      <th>1-RV-1D-AL</th>\n",
       "      <td>Alagoas</td>\n",
       "      <td>0.65</td>\n",
       "      <td>NaN</td>\n",
       "      <td>NaN</td>\n",
       "      <td>NaN</td>\n",
       "      <td>NaN</td>\n",
       "      <td>NaN</td>\n",
       "      <td>NaN</td>\n",
       "    </tr>\n",
       "    <tr>\n",
       "      <th>1-RV-1D-AL</th>\n",
       "      <td>Alagoas</td>\n",
       "      <td>0.64</td>\n",
       "      <td>NaN</td>\n",
       "      <td>NaN</td>\n",
       "      <td>NaN</td>\n",
       "      <td>NaN</td>\n",
       "      <td>NaN</td>\n",
       "      <td>NaN</td>\n",
       "    </tr>\n",
       "  </tbody>\n",
       "</table>\n",
       "<p>302 rows × 8 columns</p>\n",
       "</div>"
      ],
      "text/plain": [
       "                        Bacia   COT    S1     S2    S3   Tmax      HI     OI\n",
       "Poço                                                                        \n",
       "1-RV-1D-AL            Alagoas  5.21  0.47  26.23  1.45  420.0  503.45  27.83\n",
       "1-RV-1D-AL            Alagoas  3.70  0.17   9.98  1.23  424.0  269.73  33.24\n",
       "1-RV-1D-AL            Alagoas  2.47  0.17   6.01  0.84  424.0  243.32  34.01\n",
       "1-RV-1D-AL            Alagoas  4.48  0.41  19.94  1.19  423.0  445.09  26.56\n",
       "1-RV-1D-AL            Alagoas  4.70  0.23  13.68  1.41  427.0  291.06  30.00\n",
       "...                       ...   ...   ...    ...   ...    ...     ...    ...\n",
       "1-RV-1D-AL            Alagoas  0.67   NaN    NaN   NaN    NaN     NaN    NaN\n",
       "1-RV-1D-AL            Alagoas  0.64   NaN    NaN   NaN    NaN     NaN    NaN\n",
       "1-RV-1D-AL            Alagoas  0.56   NaN    NaN   NaN    NaN     NaN    NaN\n",
       "1-RV-1D-AL            Alagoas  0.65   NaN    NaN   NaN    NaN     NaN    NaN\n",
       "1-RV-1D-AL            Alagoas  0.64   NaN    NaN   NaN    NaN     NaN    NaN\n",
       "\n",
       "[302 rows x 8 columns]"
      ]
     },
     "execution_count": 36,
     "metadata": {},
     "output_type": "execute_result"
    }
   ],
   "source": [
    "grp = pd.read_csv(\"Poços_BR.csv\", thousands=\",\", index_col=\"Poço\")\n",
    "grpcsv= grp.loc['1-RV-1D-AL          ']\n",
    "grpcsv.to_csv(\"1-RV-1D-AL.csv\")\n",
    "grpcsv"
   ]
  },
  {
   "cell_type": "code",
   "execution_count": 31,
   "id": "b5a50b32",
   "metadata": {},
   "outputs": [],
   "source": []
  },
  {
   "cell_type": "code",
   "execution_count": null,
   "id": "aa1e302b",
   "metadata": {},
   "outputs": [],
   "source": [
    "df = pd.read_csv(\"Poços_BR/Poços_BR.csv\", thousands=\",\")"
   ]
  },
  {
   "cell_type": "code",
   "execution_count": null,
   "id": "af448b77",
   "metadata": {},
   "outputs": [],
   "source": [
    "grupo = df[\"COT\"].groupby(df[\"Poço\"])"
   ]
  },
  {
   "cell_type": "code",
   "execution_count": null,
   "id": "f2d4df60",
   "metadata": {},
   "outputs": [],
   "source": [
    "grupo"
   ]
  },
  {
   "cell_type": "code",
   "execution_count": null,
   "id": "3b484617",
   "metadata": {},
   "outputs": [],
   "source": [
    "grupo.mean()"
   ]
  },
  {
   "cell_type": "code",
   "execution_count": null,
   "id": "b542e9ef",
   "metadata": {},
   "outputs": [],
   "source": [
    "grupo = df[\"COT\"].groupby([df[\"Bacia\"], df[\"Poço\"]]).mean()  # Média de um parâmetro especificado agrupado por Bacia e Poços"
   ]
  },
  {
   "cell_type": "code",
   "execution_count": null,
   "id": "47e155db",
   "metadata": {},
   "outputs": [],
   "source": [
    "grupo"
   ]
  },
  {
   "cell_type": "code",
   "execution_count": null,
   "id": "a7e758db",
   "metadata": {},
   "outputs": [],
   "source": [
    "#pd.set_option(\"display.max_rows\", 1617)  # Mostra número total de linhas "
   ]
  },
  {
   "cell_type": "code",
   "execution_count": null,
   "id": "6ca09795",
   "metadata": {},
   "outputs": [],
   "source": [
    "#df.groupby([\"Bacia\",\"Poço\"]).mean()    # Médias de todos os parâmetros agrupados por Bacias e Poços"
   ]
  },
  {
   "cell_type": "code",
   "execution_count": null,
   "id": "be1290fc",
   "metadata": {
    "scrolled": true
   },
   "outputs": [],
   "source": [
    "# Agrupamento de todos os parâmetros e poços por Bacia\n",
    "for name, group in df.groupby(\"Poço\"):\n",
    "    print(name)\n",
    "    print(group)\n",
    "    "
   ]
  },
  {
   "cell_type": "code",
   "execution_count": null,
   "id": "ec0ccc06",
   "metadata": {},
   "outputs": [],
   "source": [
    "# Agrupamento de todos os parâmetros por poços e bacias\n",
    "#for (Bacia, Poço), group in df.groupby([\"Bacia\",\"Poço\"]):\n",
    "    print((Bacia,Poço))\n",
    "    print(group)"
   ]
  },
  {
   "cell_type": "code",
   "execution_count": null,
   "id": "7245643f",
   "metadata": {},
   "outputs": [],
   "source": [
    "selec = dict(list(df.groupby(\"Bacia\")))\n",
    "selec[\"Alagoas\"]"
   ]
  },
  {
   "cell_type": "code",
   "execution_count": null,
   "id": "8573822d",
   "metadata": {},
   "outputs": [],
   "source": [
    "selec2 = dict(list(df.groupby(\"Poço\")))\n",
    "selec2 "
   ]
  },
  {
   "cell_type": "code",
   "execution_count": null,
   "id": "cae77e04",
   "metadata": {
    "scrolled": true
   },
   "outputs": [],
   "source": [
    "selec2 = dict(list(df.groupby(\"Poço\")))\n",
    "selec2[\"4-PIR-4-AL          \"]     "
   ]
  },
  {
   "cell_type": "code",
   "execution_count": null,
   "id": "0a230a9f",
   "metadata": {},
   "outputs": [],
   "source": [
    "selec2.to_csv(\"4PIR4AL.csv\", index=False)"
   ]
  },
  {
   "cell_type": "code",
   "execution_count": null,
   "id": "9a686ea0",
   "metadata": {},
   "outputs": [],
   "source": [
    "selec2 = pd.DataFrame.from_dict(selec2)"
   ]
  },
  {
   "cell_type": "code",
   "execution_count": null,
   "id": "eb9756b4",
   "metadata": {},
   "outputs": [],
   "source": [
    "import csv"
   ]
  },
  {
   "cell_type": "code",
   "execution_count": null,
   "id": "65adb8cc",
   "metadata": {},
   "outputs": [],
   "source": [
    "filename = 'dictionary.csv'\n",
    "with open(filename, 'w', newline='') as csvfile:\n",
    "    writer = csv.writer(csvfile)\n",
    "    writer.writerow(selec2.keys())\n",
    "    writer.writerows(zip(*selec2.values()))"
   ]
  }
 ],
 "metadata": {
  "kernelspec": {
   "display_name": "Python 3 (ipykernel)",
   "language": "python",
   "name": "python3"
  },
  "language_info": {
   "codemirror_mode": {
    "name": "ipython",
    "version": 3
   },
   "file_extension": ".py",
   "mimetype": "text/x-python",
   "name": "python",
   "nbconvert_exporter": "python",
   "pygments_lexer": "ipython3",
   "version": "3.10.6"
  }
 },
 "nbformat": 4,
 "nbformat_minor": 5
}
