{
 "cells": [
  {
   "cell_type": "code",
   "execution_count": 4,
   "id": "57b8f7a6",
   "metadata": {},
   "outputs": [],
   "source": [
    "import pandas as pd"
   ]
  },
  {
   "cell_type": "code",
   "execution_count": 8,
   "id": "cfe28783",
   "metadata": {},
   "outputs": [],
   "source": [
    "df = pd.read_csv(\"Poços_BR.csv\", thousands=\",\")"
   ]
  },
  {
   "cell_type": "code",
   "execution_count": null,
   "id": "4265868c",
   "metadata": {
    "scrolled": false
   },
   "outputs": [],
   "source": [
    "df"
   ]
  },
  {
   "cell_type": "code",
   "execution_count": null,
   "id": "6ee00196",
   "metadata": {
    "scrolled": true
   },
   "outputs": [],
   "source": [
    "df1 = df.loc[\"Sergipe\"]"
   ]
  },
  {
   "cell_type": "code",
   "execution_count": null,
   "id": "7cbe1c36",
   "metadata": {},
   "outputs": [],
   "source": [
    "df1.to_csv(\"Sergipe.csv\", index=False)"
   ]
  },
  {
   "cell_type": "code",
   "execution_count": null,
   "id": "e2dd3c51",
   "metadata": {},
   "outputs": [],
   "source": [
    "df.info()"
   ]
  },
  {
   "cell_type": "code",
   "execution_count": null,
   "id": "41ff8aa9",
   "metadata": {},
   "outputs": [],
   "source": [
    "df.head(10)"
   ]
  },
  {
   "cell_type": "code",
   "execution_count": null,
   "id": "84ad565a",
   "metadata": {
    "scrolled": true
   },
   "outputs": [],
   "source": [
    "df.tail()"
   ]
  },
  {
   "cell_type": "code",
   "execution_count": null,
   "id": "6eb5310c",
   "metadata": {},
   "outputs": [],
   "source": [
    "df.describe()"
   ]
  },
  {
   "cell_type": "code",
   "execution_count": null,
   "id": "6fd9b53c",
   "metadata": {},
   "outputs": [],
   "source": [
    "df.Poço"
   ]
  },
  {
   "cell_type": "code",
   "execution_count": null,
   "id": "a249518e",
   "metadata": {},
   "outputs": [],
   "source": [
    "df[[\"Poço\",\"COT\"]]"
   ]
  },
  {
   "cell_type": "code",
   "execution_count": null,
   "id": "562b2130",
   "metadata": {},
   "outputs": [],
   "source": [
    "df.iloc[4756]"
   ]
  },
  {
   "cell_type": "code",
   "execution_count": null,
   "id": "978d1e45",
   "metadata": {},
   "outputs": [],
   "source": [
    "df.iloc[3546:4563]"
   ]
  },
  {
   "cell_type": "code",
   "execution_count": null,
   "id": "a4467a85",
   "metadata": {
    "scrolled": true
   },
   "outputs": [],
   "source": [
    "df.loc[3561:3567, \"Poço\":\"Tmax\"]"
   ]
  },
  {
   "cell_type": "code",
   "execution_count": null,
   "id": "fc514488",
   "metadata": {
    "scrolled": true
   },
   "outputs": [],
   "source": [
    "df[\"Poço\"].value_counts()"
   ]
  },
  {
   "cell_type": "code",
   "execution_count": null,
   "id": "2169411f",
   "metadata": {},
   "outputs": [],
   "source": [
    "df.set_index(\"Poço\", inplace=True)"
   ]
  },
  {
   "cell_type": "code",
   "execution_count": 12,
   "id": "e0f5a2d5",
   "metadata": {
    "scrolled": true
   },
   "outputs": [],
   "source": [
    "grp = pd.read_csv(\"Poços_BR.csv\", thousands=\",\", index_col=\"Poço\")"
   ]
  },
  {
   "cell_type": "code",
   "execution_count": 16,
   "id": "0d2d6a99",
   "metadata": {
    "scrolled": false
   },
   "outputs": [
    {
     "data": {
      "text/html": [
       "<div>\n",
       "<style scoped>\n",
       "    .dataframe tbody tr th:only-of-type {\n",
       "        vertical-align: middle;\n",
       "    }\n",
       "\n",
       "    .dataframe tbody tr th {\n",
       "        vertical-align: top;\n",
       "    }\n",
       "\n",
       "    .dataframe thead th {\n",
       "        text-align: right;\n",
       "    }\n",
       "</style>\n",
       "<table border=\"1\" class=\"dataframe\">\n",
       "  <thead>\n",
       "    <tr style=\"text-align: right;\">\n",
       "      <th></th>\n",
       "      <th>Bacia</th>\n",
       "      <th>COT</th>\n",
       "      <th>S1</th>\n",
       "      <th>S2</th>\n",
       "      <th>S3</th>\n",
       "      <th>Tmax</th>\n",
       "      <th>HI</th>\n",
       "      <th>OI</th>\n",
       "    </tr>\n",
       "    <tr>\n",
       "      <th>Poço</th>\n",
       "      <th></th>\n",
       "      <th></th>\n",
       "      <th></th>\n",
       "      <th></th>\n",
       "      <th></th>\n",
       "      <th></th>\n",
       "      <th></th>\n",
       "      <th></th>\n",
       "    </tr>\n",
       "  </thead>\n",
       "  <tbody>\n",
       "    <tr>\n",
       "      <th>1-BRSA-464D-AL</th>\n",
       "      <td>Alagoas</td>\n",
       "      <td>1.47</td>\n",
       "      <td>0.42</td>\n",
       "      <td>5.30</td>\n",
       "      <td>0.64</td>\n",
       "      <td>421.0</td>\n",
       "      <td>359.57</td>\n",
       "      <td>43.42</td>\n",
       "    </tr>\n",
       "    <tr>\n",
       "      <th>1-BRSA-464D-AL</th>\n",
       "      <td>Alagoas</td>\n",
       "      <td>1.99</td>\n",
       "      <td>0.89</td>\n",
       "      <td>3.42</td>\n",
       "      <td>0.69</td>\n",
       "      <td>414.0</td>\n",
       "      <td>172.03</td>\n",
       "      <td>34.71</td>\n",
       "    </tr>\n",
       "    <tr>\n",
       "      <th>1-BRSA-464D-AL</th>\n",
       "      <td>Alagoas</td>\n",
       "      <td>1.74</td>\n",
       "      <td>0.63</td>\n",
       "      <td>2.72</td>\n",
       "      <td>0.68</td>\n",
       "      <td>424.0</td>\n",
       "      <td>155.96</td>\n",
       "      <td>38.99</td>\n",
       "    </tr>\n",
       "    <tr>\n",
       "      <th>1-BRSA-464D-AL</th>\n",
       "      <td>Alagoas</td>\n",
       "      <td>2.21</td>\n",
       "      <td>1.15</td>\n",
       "      <td>5.27</td>\n",
       "      <td>0.61</td>\n",
       "      <td>423.0</td>\n",
       "      <td>239.00</td>\n",
       "      <td>27.66</td>\n",
       "    </tr>\n",
       "    <tr>\n",
       "      <th>1-BRSA-464D-AL</th>\n",
       "      <td>Alagoas</td>\n",
       "      <td>3.05</td>\n",
       "      <td>1.76</td>\n",
       "      <td>8.99</td>\n",
       "      <td>0.20</td>\n",
       "      <td>413.0</td>\n",
       "      <td>294.56</td>\n",
       "      <td>6.55</td>\n",
       "    </tr>\n",
       "    <tr>\n",
       "      <th>...</th>\n",
       "      <td>...</td>\n",
       "      <td>...</td>\n",
       "      <td>...</td>\n",
       "      <td>...</td>\n",
       "      <td>...</td>\n",
       "      <td>...</td>\n",
       "      <td>...</td>\n",
       "      <td>...</td>\n",
       "    </tr>\n",
       "    <tr>\n",
       "      <th>1-BRSA-464D-AL</th>\n",
       "      <td>Alagoas</td>\n",
       "      <td>2.31</td>\n",
       "      <td>NaN</td>\n",
       "      <td>NaN</td>\n",
       "      <td>NaN</td>\n",
       "      <td>NaN</td>\n",
       "      <td>NaN</td>\n",
       "      <td>NaN</td>\n",
       "    </tr>\n",
       "    <tr>\n",
       "      <th>1-BRSA-464D-AL</th>\n",
       "      <td>Alagoas</td>\n",
       "      <td>2.50</td>\n",
       "      <td>NaN</td>\n",
       "      <td>NaN</td>\n",
       "      <td>NaN</td>\n",
       "      <td>NaN</td>\n",
       "      <td>NaN</td>\n",
       "      <td>NaN</td>\n",
       "    </tr>\n",
       "    <tr>\n",
       "      <th>1-BRSA-464D-AL</th>\n",
       "      <td>Alagoas</td>\n",
       "      <td>3.64</td>\n",
       "      <td>NaN</td>\n",
       "      <td>NaN</td>\n",
       "      <td>NaN</td>\n",
       "      <td>NaN</td>\n",
       "      <td>NaN</td>\n",
       "      <td>NaN</td>\n",
       "    </tr>\n",
       "    <tr>\n",
       "      <th>1-BRSA-464D-AL</th>\n",
       "      <td>Alagoas</td>\n",
       "      <td>3.23</td>\n",
       "      <td>9.96</td>\n",
       "      <td>16.99</td>\n",
       "      <td>1.58</td>\n",
       "      <td>439.0</td>\n",
       "      <td>526.01</td>\n",
       "      <td>48.92</td>\n",
       "    </tr>\n",
       "    <tr>\n",
       "      <th>1-BRSA-464D-AL</th>\n",
       "      <td>Alagoas</td>\n",
       "      <td>2.89</td>\n",
       "      <td>NaN</td>\n",
       "      <td>NaN</td>\n",
       "      <td>NaN</td>\n",
       "      <td>NaN</td>\n",
       "      <td>NaN</td>\n",
       "      <td>NaN</td>\n",
       "    </tr>\n",
       "  </tbody>\n",
       "</table>\n",
       "<p>377 rows × 8 columns</p>\n",
       "</div>"
      ],
      "text/plain": [
       "                        Bacia   COT    S1     S2    S3   Tmax      HI     OI\n",
       "Poço                                                                        \n",
       "1-BRSA-464D-AL        Alagoas  1.47  0.42   5.30  0.64  421.0  359.57  43.42\n",
       "1-BRSA-464D-AL        Alagoas  1.99  0.89   3.42  0.69  414.0  172.03  34.71\n",
       "1-BRSA-464D-AL        Alagoas  1.74  0.63   2.72  0.68  424.0  155.96  38.99\n",
       "1-BRSA-464D-AL        Alagoas  2.21  1.15   5.27  0.61  423.0  239.00  27.66\n",
       "1-BRSA-464D-AL        Alagoas  3.05  1.76   8.99  0.20  413.0  294.56   6.55\n",
       "...                       ...   ...   ...    ...   ...    ...     ...    ...\n",
       "1-BRSA-464D-AL        Alagoas  2.31   NaN    NaN   NaN    NaN     NaN    NaN\n",
       "1-BRSA-464D-AL        Alagoas  2.50   NaN    NaN   NaN    NaN     NaN    NaN\n",
       "1-BRSA-464D-AL        Alagoas  3.64   NaN    NaN   NaN    NaN     NaN    NaN\n",
       "1-BRSA-464D-AL        Alagoas  3.23  9.96  16.99  1.58  439.0  526.01  48.92\n",
       "1-BRSA-464D-AL        Alagoas  2.89   NaN    NaN   NaN    NaN     NaN    NaN\n",
       "\n",
       "[377 rows x 8 columns]"
      ]
     },
     "execution_count": 16,
     "metadata": {},
     "output_type": "execute_result"
    }
   ],
   "source": [
    "grp.loc['1-BRSA-464D-AL      ']"
   ]
  },
  {
   "cell_type": "code",
   "execution_count": 19,
   "id": "b5a50b32",
   "metadata": {},
   "outputs": [],
   "source": [
    "grp.to_csv(\"1-BRSA-464D-AL.csv\")"
   ]
  },
  {
   "cell_type": "code",
   "execution_count": null,
   "id": "aa1e302b",
   "metadata": {},
   "outputs": [],
   "source": [
    "df = pd.read_csv(\"Poços_BR/Poços_BR.csv\", thousands=\",\")"
   ]
  },
  {
   "cell_type": "code",
   "execution_count": null,
   "id": "af448b77",
   "metadata": {},
   "outputs": [],
   "source": [
    "grupo = df[\"COT\"].groupby(df[\"Poço\"])"
   ]
  },
  {
   "cell_type": "code",
   "execution_count": null,
   "id": "f2d4df60",
   "metadata": {},
   "outputs": [],
   "source": [
    "grupo"
   ]
  },
  {
   "cell_type": "code",
   "execution_count": null,
   "id": "3b484617",
   "metadata": {},
   "outputs": [],
   "source": [
    "grupo.mean()"
   ]
  },
  {
   "cell_type": "code",
   "execution_count": null,
   "id": "b542e9ef",
   "metadata": {},
   "outputs": [],
   "source": [
    "grupo = df[\"COT\"].groupby([df[\"Bacia\"], df[\"Poço\"]]).mean()  # Média de um parâmetro especificado agrupado por Bacia e Poços"
   ]
  },
  {
   "cell_type": "code",
   "execution_count": null,
   "id": "47e155db",
   "metadata": {},
   "outputs": [],
   "source": [
    "grupo"
   ]
  },
  {
   "cell_type": "code",
   "execution_count": null,
   "id": "a7e758db",
   "metadata": {},
   "outputs": [],
   "source": [
    "#pd.set_option(\"display.max_rows\", 1617)  # Mostra número total de linhas "
   ]
  },
  {
   "cell_type": "code",
   "execution_count": null,
   "id": "6ca09795",
   "metadata": {},
   "outputs": [],
   "source": [
    "#df.groupby([\"Bacia\",\"Poço\"]).mean()    # Médias de todos os parâmetros agrupados por Bacias e Poços"
   ]
  },
  {
   "cell_type": "code",
   "execution_count": null,
   "id": "be1290fc",
   "metadata": {
    "scrolled": true
   },
   "outputs": [],
   "source": [
    "# Agrupamento de todos os parâmetros e poços por Bacia\n",
    "for name, group in df.groupby(\"Poço\"):\n",
    "    print(name)\n",
    "    print(group)\n",
    "    "
   ]
  },
  {
   "cell_type": "code",
   "execution_count": null,
   "id": "ec0ccc06",
   "metadata": {},
   "outputs": [],
   "source": [
    "# Agrupamento de todos os parâmetros por poços e bacias\n",
    "#for (Bacia, Poço), group in df.groupby([\"Bacia\",\"Poço\"]):\n",
    "    print((Bacia,Poço))\n",
    "    print(group)"
   ]
  },
  {
   "cell_type": "code",
   "execution_count": null,
   "id": "7245643f",
   "metadata": {},
   "outputs": [],
   "source": [
    "selec = dict(list(df.groupby(\"Bacia\")))\n",
    "selec[\"Alagoas\"]"
   ]
  },
  {
   "cell_type": "code",
   "execution_count": null,
   "id": "8573822d",
   "metadata": {},
   "outputs": [],
   "source": [
    "selec2 = dict(list(df.groupby(\"Poço\")))\n",
    "selec2 "
   ]
  },
  {
   "cell_type": "code",
   "execution_count": null,
   "id": "cae77e04",
   "metadata": {
    "scrolled": true
   },
   "outputs": [],
   "source": [
    "selec2 = dict(list(df.groupby(\"Poço\")))\n",
    "selec2[\"4-PIR-4-AL          \"]     "
   ]
  },
  {
   "cell_type": "code",
   "execution_count": null,
   "id": "0a230a9f",
   "metadata": {},
   "outputs": [],
   "source": [
    "selec2.to_csv(\"4PIR4AL.csv\", index=False)"
   ]
  },
  {
   "cell_type": "code",
   "execution_count": null,
   "id": "9a686ea0",
   "metadata": {},
   "outputs": [],
   "source": [
    "selec2 = pd.DataFrame.from_dict(selec2)"
   ]
  },
  {
   "cell_type": "code",
   "execution_count": null,
   "id": "eb9756b4",
   "metadata": {},
   "outputs": [],
   "source": [
    "import csv"
   ]
  },
  {
   "cell_type": "code",
   "execution_count": null,
   "id": "65adb8cc",
   "metadata": {},
   "outputs": [],
   "source": [
    "filename = 'dictionary.csv'\n",
    "with open(filename, 'w', newline='') as csvfile:\n",
    "    writer = csv.writer(csvfile)\n",
    "    writer.writerow(selec2.keys())\n",
    "    writer.writerows(zip(*selec2.values()))"
   ]
  }
 ],
 "metadata": {
  "kernelspec": {
   "display_name": "Python 3 (ipykernel)",
   "language": "python",
   "name": "python3"
  },
  "language_info": {
   "codemirror_mode": {
    "name": "ipython",
    "version": 3
   },
   "file_extension": ".py",
   "mimetype": "text/x-python",
   "name": "python",
   "nbconvert_exporter": "python",
   "pygments_lexer": "ipython3",
   "version": "3.10.9"
  }
 },
 "nbformat": 4,
 "nbformat_minor": 5
}
