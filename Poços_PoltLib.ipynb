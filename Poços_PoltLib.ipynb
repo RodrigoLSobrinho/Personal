{
 "cells": [
  {
   "cell_type": "code",
   "execution_count": null,
   "metadata": {},
   "outputs": [],
   "source": [
    "import pandas as pd\n",
    "from matplotlib import pyplot as plt\n",
    "df = pd.read_csv(\"Poços_BR.csv\", thousands=\",\")\n",
    "df"
   ]
  },
  {
   "cell_type": "code",
   "execution_count": null,
   "metadata": {},
   "outputs": [],
   "source": [
    "grupo = df.groupby([df[\"Bacia\"], df[\"Poço\"]]).mean()\n",
    "grupo"
   ]
  },
  {
   "cell_type": "code",
   "execution_count": null,
   "metadata": {},
   "outputs": [],
   "source": [
    "grb = pd.read_csv(\"Poços_BR.csv\", thousands=\",\", index_col=\"Bacia\")\n",
    "grb_plt = grb.loc['Alagoas']\n",
    "grb_plt\n"
   ]
  },
  {
   "cell_type": "code",
   "execution_count": null,
   "metadata": {},
   "outputs": [],
   "source": [
    "grp = pd.read_csv(\"Poços_BR.csv\", thousands=\",\", index_col=\"Poço\")\n",
    "grp_plt= grp.loc['1-RV-1D-AL          ']\n",
    "grp_plt\n"
   ]
  },
  {
   "attachments": {},
   "cell_type": "markdown",
   "metadata": {},
   "source": [
    "### Scatter Plot"
   ]
  },
  {
   "cell_type": "code",
   "execution_count": null,
   "metadata": {},
   "outputs": [],
   "source": [
    "# Importação de Planilha\n",
    "\n",
    "grp_plt = pd.read_csv(\"1-RV-1D-AL.csv\", thousands=\",\")\n",
    "grp_plt"
   ]
  },
  {
   "cell_type": "code",
   "execution_count": null,
   "metadata": {},
   "outputs": [],
   "source": [
    "# Definição de Variáveis\n",
    "\n",
    "x = grp_plt.COT\n",
    "y = grp_plt.S2\n",
    "x"
   ]
  },
  {
   "cell_type": "code",
   "execution_count": null,
   "metadata": {},
   "outputs": [],
   "source": [
    "# Customização de gráfico \n",
    "\n",
    "plt.scatter(x,y)\n",
    "plt.scatter(x,y, s=100)  # Tamanho dos pontos\n",
    "plt.scatter(x,y, c='green') # cor\n",
    "plt.scatter(x,y, marker='X')  # Tipo de ponto\n",
    "plt.scatter(x,y, edgecolor='black', linewidth=1, alpha=0.75)  # Cor da circunferência de cada ponto, espessura e transparência\n",
    "plt.show()"
   ]
  },
  {
   "cell_type": "code",
   "execution_count": null,
   "metadata": {},
   "outputs": [],
   "source": [
    "# Gradiente de cores de acordo com o parâmetro definido\n",
    "\n",
    "plt.scatter(x,y, s=100, c=x, cmap='Greens', marker='X', edgecolor='black', linewidth=1, alpha=0.75) \n",
    "cbar = plt.colorbar()\n",
    "cbar.set_label ('Quantidade COT')"
   ]
  },
  {
   "cell_type": "code",
   "execution_count": null,
   "metadata": {},
   "outputs": [],
   "source": [
    "# Gradiente de tamanho de acordo com parâmetro definido\n",
    "\n",
    "plt.scatter(x,y, s=x, c=x, cmap='Greens', marker='X', edgecolor='black', linewidth=1, alpha=0.75) \n",
    "cbar = plt.colorbar()\n",
    "cbar.set_label ('Quantidade COT')"
   ]
  },
  {
   "cell_type": "code",
   "execution_count": null,
   "metadata": {},
   "outputs": [],
   "source": [
    "# Escala Log\n",
    "\n",
    "plt.scatter(x,y, edgecolor='black', linewidth=1, alpha=0.75)\n",
    "plt.xscale('log')\n",
    "plt.yscale('log')"
   ]
  },
  {
   "cell_type": "code",
   "execution_count": null,
   "metadata": {},
   "outputs": [],
   "source": [
    "grb_plt = pd.read_csv(\"Alagoas.csv\", thousands=\",\")\n",
    "grb_plt"
   ]
  }
 ],
 "metadata": {
  "kernelspec": {
   "display_name": "base",
   "language": "python",
   "name": "python3"
  },
  "language_info": {
   "codemirror_mode": {
    "name": "ipython",
    "version": 3
   },
   "file_extension": ".py",
   "mimetype": "text/x-python",
   "name": "python",
   "nbconvert_exporter": "python",
   "pygments_lexer": "ipython3",
   "version": "3.10.6"
  },
  "orig_nbformat": 4
 },
 "nbformat": 4,
 "nbformat_minor": 2
}
